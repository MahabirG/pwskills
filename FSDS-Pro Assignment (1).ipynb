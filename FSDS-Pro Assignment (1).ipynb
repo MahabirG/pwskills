{
 "cells": [
  {
   "cell_type": "markdown",
   "id": "e2b20691",
   "metadata": {},
   "source": [
    "#### Loops"
   ]
  },
  {
   "cell_type": "markdown",
   "id": "70a73bde",
   "metadata": {},
   "source": [
    "#1.\tWrite a Python program to print numbers from 1 to 10 using a for loop."
   ]
  },
  {
   "cell_type": "code",
   "execution_count": 2,
   "id": "9b8f8a97",
   "metadata": {},
   "outputs": [
    {
     "name": "stdout",
     "output_type": "stream",
     "text": [
      "1\n",
      "2\n",
      "3\n",
      "4\n",
      "5\n",
      "6\n",
      "7\n",
      "8\n",
      "9\n",
      "10\n"
     ]
    }
   ],
   "source": [
    "\n",
    "\n",
    "for i in range(1,11):\n",
    "    print(i)"
   ]
  },
  {
   "cell_type": "code",
   "execution_count": null,
   "id": "5d74f374",
   "metadata": {},
   "outputs": [],
   "source": [
    "2 Explain the difference between a for loop and a while loop in Python.\n",
    "Ans -> For loop is used when we know the number of iteration \n",
    "and while loop is used when we do not the number of iteration"
   ]
  },
  {
   "cell_type": "code",
   "execution_count": null,
   "id": "1c632b09",
   "metadata": {},
   "outputs": [],
   "source": [
    "#3.\tWrite a Python program to calculate the sum of all numbers from 1 to 100 using a for loop.\n",
    "sum = 0\n",
    "for i in range(1,101):\n",
    "    sum = sum+i\n",
    "    \n",
    "print(sum)"
   ]
  },
  {
   "cell_type": "code",
   "execution_count": 7,
   "id": "8d26b765",
   "metadata": {},
   "outputs": [
    {
     "name": "stdout",
     "output_type": "stream",
     "text": [
      "1\n",
      "2\n",
      "3\n",
      "4\n",
      "5\n",
      "6\n",
      "7\n",
      "8\n"
     ]
    }
   ],
   "source": [
    "#4.\tHow do you iterate through a list using a for loop in Python?\n",
    "\n",
    "l=[1,2,3,4,5,6,7,8]\n",
    "\n",
    "for i in l:\n",
    "    print(i)"
   ]
  },
  {
   "cell_type": "code",
   "execution_count": 8,
   "id": "6c6c904f",
   "metadata": {},
   "outputs": [
    {
     "name": "stdout",
     "output_type": "stream",
     "text": [
      "40320\n"
     ]
    }
   ],
   "source": [
    "#5.\tWrite a Python program to find the product of all elements in a list using a for loop.\n",
    "l=[1,2,3,4,5,6,7,8]\n",
    "prod =1\n",
    "for i in l:\n",
    "    prod = prod*i\n",
    "    \n",
    "print(prod)"
   ]
  },
  {
   "cell_type": "code",
   "execution_count": 15,
   "id": "dc9d4beb",
   "metadata": {},
   "outputs": [
    {
     "name": "stdout",
     "output_type": "stream",
     "text": [
      "2\n",
      "4\n",
      "6\n",
      "8\n",
      "10\n",
      "12\n",
      "14\n",
      "16\n",
      "18\n",
      "20\n"
     ]
    }
   ],
   "source": [
    "#6.\tCreate a Python program that prints all even numbers from 1 to 20 using a for loop.\n",
    "\n",
    "for i in range(1,21):\n",
    "        if i%2==0:\n",
    "            print(i)"
   ]
  },
  {
   "cell_type": "code",
   "execution_count": 18,
   "id": "49e92c70",
   "metadata": {},
   "outputs": [
    {
     "name": "stdout",
     "output_type": "stream",
     "text": [
      "Enter a number to calculate factorial\n",
      "5\n",
      "120\n"
     ]
    }
   ],
   "source": [
    "#7.\tWrite a Python program that calculates the factorial of a number using a for loop.\n",
    "num = int(input(\"Enter a number to calculate factorial\\n\"))\n",
    "fact =1\n",
    "for i in range(1,num+1):\n",
    "    fact = fact*i\n",
    "print('Factorial of {} is {}'.format(num,fact))"
   ]
  },
  {
   "cell_type": "code",
   "execution_count": 19,
   "id": "e6b180c6",
   "metadata": {},
   "outputs": [
    {
     "name": "stdout",
     "output_type": "stream",
     "text": [
      "H\n",
      "e\n",
      "l\n",
      "l\n",
      "o\n",
      "D\n",
      "a\n",
      "t\n",
      "a\n",
      "S\n",
      "c\n",
      "i\n",
      "e\n",
      "c\n",
      "n\n",
      "c\n",
      "e\n"
     ]
    }
   ],
   "source": [
    "#8.\tHow can you iterate through the characters of a string using a for loop in Python?\n",
    "str ='HelloDataSciecnce'\n",
    "for i in str:\n",
    "    print(i)"
   ]
  },
  {
   "cell_type": "code",
   "execution_count": 21,
   "id": "d557183a",
   "metadata": {},
   "outputs": [
    {
     "name": "stdout",
     "output_type": "stream",
     "text": [
      "25\n"
     ]
    }
   ],
   "source": [
    "#9.\tWrite a Python program to find the largest number in a list using a for loop.\n",
    "\n",
    "l=[1,2,3,4,5,6,7,8,25]\n",
    "max =l[0]\n",
    "for i in l:\n",
    "    if i>max:\n",
    "        max=i\n",
    "        \n",
    "print(max)\n",
    "        "
   ]
  },
  {
   "cell_type": "code",
   "execution_count": 23,
   "id": "66e96a0b",
   "metadata": {},
   "outputs": [
    {
     "name": "stdout",
     "output_type": "stream",
     "text": [
      "Enter a number \n",
      "5\n",
      "0 1 1 2 3 5 8 "
     ]
    }
   ],
   "source": [
    "##10. Create a Python program that prints the Fibonacci sequence up to a specified limit using a for loop.\n",
    "\n",
    "num =int(input(\"Enter a number \\n\"))\n",
    "first =0\n",
    "second =1\n",
    "print(first,end=\" \")\n",
    "print(second,end=\" \")\n",
    "for i in range(num):\n",
    "    third = first+second\n",
    "    print(third,end=\" \")\n",
    "    first,second=second,third\n",
    "    "
   ]
  },
  {
   "cell_type": "code",
   "execution_count": 25,
   "id": "a070282a",
   "metadata": {},
   "outputs": [
    {
     "name": "stdout",
     "output_type": "stream",
     "text": [
      "Enter a string\n",
      "aaaabbbeeeeiiooouuu\n",
      "16\n"
     ]
    }
   ],
   "source": [
    "## 11.Write a Python program to count the number of vowels in a given string using a for loop.\n",
    "vow =['a','e','i','o','u']\n",
    "\n",
    "str = input(\"Enter a string\\n\")\n",
    "count =0\n",
    "for i in str:\n",
    "    if i in vow:\n",
    "        count=count+1\n",
    "        \n",
    "print(count)\n",
    "    "
   ]
  },
  {
   "cell_type": "code",
   "execution_count": 27,
   "id": "69d4872c",
   "metadata": {},
   "outputs": [
    {
     "name": "stdout",
     "output_type": "stream",
     "text": [
      "Enter a number\n",
      "37\n",
      "1 * 37 = 37\n",
      "2 * 37 = 74\n",
      "3 * 37 = 111\n",
      "4 * 37 = 148\n",
      "5 * 37 = 185\n",
      "6 * 37 = 222\n",
      "7 * 37 = 259\n",
      "8 * 37 = 296\n",
      "9 * 37 = 333\n",
      "10 * 37 = 370\n"
     ]
    }
   ],
   "source": [
    "##12.Create a Python program that generates a multiplication table for a given number using a for loop.\n",
    "\n",
    "num = int(input(\"Enter a number\\n\"))\n",
    "\n",
    "for i in range(1,11):\n",
    "    print(i,'*',num,'=',i*num)"
   ]
  },
  {
   "cell_type": "code",
   "execution_count": 4,
   "id": "d3e5fe4b",
   "metadata": {},
   "outputs": [
    {
     "data": {
      "text/plain": [
       "[9, 8, 7, 6, 5, 4, 3, 2, 1]"
      ]
     },
     "execution_count": 4,
     "metadata": {},
     "output_type": "execute_result"
    }
   ],
   "source": [
    "#13.Write a Python program to reverse a list using a for loop\n",
    "l = [1,2,3,4,5,6,7,8,9]\n",
    "l1=[]\n",
    "\n",
    "for i in range(len(l),0,-1):\n",
    "    l1.append(i)\n",
    "\n",
    "l1"
   ]
  },
  {
   "cell_type": "code",
   "execution_count": 7,
   "id": "141ae833",
   "metadata": {},
   "outputs": [
    {
     "name": "stdout",
     "output_type": "stream",
     "text": [
      "1\n",
      "2\n",
      "6\n",
      "8\n",
      "9\n"
     ]
    }
   ],
   "source": [
    "#14.Write a Python program to find the common elements between two lists using a for loop.\n",
    "lst=[1,2,3,4,5,6,7,8,9]\n",
    "lst1=[1,2,8,9,10,11,12,13,14,6]\n",
    "\n",
    "for i in lst:\n",
    "    if i in lst1:\n",
    "        print(i)"
   ]
  },
  {
   "cell_type": "code",
   "execution_count": 13,
   "id": "ffa48507",
   "metadata": {},
   "outputs": [
    {
     "name": "stdout",
     "output_type": "stream",
     "text": [
      "KEYS\n",
      "name\n",
      "age\n",
      "city\n",
      "\n",
      "Values\n",
      "Mahabir\n",
      "30\n",
      "Blr\n",
      "\n",
      "Keys and Values\n",
      "('name', 'Mahabir')\n",
      "('age', 30)\n",
      "('city', 'Blr')\n"
     ]
    }
   ],
   "source": [
    "#15.Explain how to use a for loop to iterate through the keys and values of a dictionary in Python.\n",
    "\n",
    "my_dict={'name':'Mahabir','age':30,'city':'Blr'}\n",
    "\n",
    "#prints keys\n",
    "print(\"KEYS\")\n",
    "for i in my_dict:\n",
    "    print(i)\n",
    "\n",
    "#prints values\n",
    "print(\"\\nValues\")\n",
    "for i in my_dict.values():\n",
    "    print(i)\n",
    "\n",
    "    \n",
    "#prints keys and values\n",
    "print(\"\\nKeys and Values\")\n",
    "for i in my_dict.items():\n",
    "    print(i)"
   ]
  },
  {
   "cell_type": "code",
   "execution_count": 19,
   "id": "1cfe4cbf",
   "metadata": {},
   "outputs": [
    {
     "name": "stdout",
     "output_type": "stream",
     "text": [
      "Enter a number\n",
      "7\n",
      "Enter another number \n",
      "35\n",
      "7\n"
     ]
    }
   ],
   "source": [
    "##16.Write a Python program to find the GCD (Greatest Common Divisor) of two numbers using a for loop.\n",
    "\n",
    "a = int(input('Enter a number\\n'))\n",
    "b = int(input('Enter another number \\n'))\n",
    "\n",
    "if a>b:\n",
    "    temp =b\n",
    "else:\n",
    "    temp=a\n",
    "\n",
    "for i in range(1,temp+1):\n",
    "    if(a%i==0) and (b%i==0):\n",
    "        gcd=i\n",
    "        \n",
    "print(gcd)\n",
    "        "
   ]
  },
  {
   "cell_type": "code",
   "execution_count": 40,
   "id": "3d11d0e5",
   "metadata": {},
   "outputs": [
    {
     "name": "stdout",
     "output_type": "stream",
     "text": [
      "Enter a string\n",
      "mom\n",
      "pallindrome\n"
     ]
    }
   ],
   "source": [
    "#17.Create a Python program that checks if a string is a palindrome using a for loop.\n",
    "\n",
    "str = input('Enter a string\\n')\n",
    "l=[]\n",
    "\n",
    "for i in range(len(str)):\n",
    "    l.append(str[i])\n",
    "\n",
    "\n",
    "l1=l[::-1]\n",
    "\n",
    "if l==l1:\n",
    "    print('pallindrome')\n",
    "else:\n",
    "    print(\"not pallindrome\")\n"
   ]
  },
  {
   "cell_type": "code",
   "execution_count": 61,
   "id": "73d54fb7",
   "metadata": {},
   "outputs": [
    {
     "name": "stdout",
     "output_type": "stream",
     "text": [
      "Enter a list\n",
      "1 2 3 4 5 6 7 8 9 7 1 2 13 12  12\n",
      "['1', '2', '3', '4', '5', '6', '7', '8', '9', '13', '12', '']\n"
     ]
    }
   ],
   "source": [
    "##18.Write a Python program to remove duplicates from a list using a for loop.\n",
    "\n",
    "l = input(\"Enter a list\\n\").split(' ')\n",
    "\n",
    "l1=[]\n",
    "\n",
    "for i in l:\n",
    "    if i not in l1:\n",
    "        l1.append(i)\n",
    "        \n",
    "print(l1)\n"
   ]
  },
  {
   "cell_type": "code",
   "execution_count": 64,
   "id": "6dc9bad1",
   "metadata": {},
   "outputs": [
    {
     "name": "stdout",
     "output_type": "stream",
     "text": [
      "Enter a sentence\n",
      "hello student welcome to the class\n",
      "6\n",
      "6\n"
     ]
    }
   ],
   "source": [
    "##19.Create a Python program that counts the number of words in a sentence using a for loop.\n",
    "\n",
    "sentence = input(\"Enter a sentence\\n\")\n",
    "# l = sentence.split(\" \")\n",
    "\n",
    "# print(len(l))\n",
    "\n",
    "    \n",
    "count = 0\n",
    "\n",
    "for word in sentence.split(\" \"):\n",
    "    count=count+1\n",
    "\n",
    "print(count)\n"
   ]
  },
  {
   "cell_type": "code",
   "execution_count": 72,
   "id": "7da44382",
   "metadata": {},
   "outputs": [
    {
     "name": "stdout",
     "output_type": "stream",
     "text": [
      "The sum of odd numbers from 1 to 50 is 625 and the sum of even numbers is 650\n"
     ]
    }
   ],
   "source": [
    "##20.Write a Python program to find the sum of all odd numbers from 1 to 50 using a for loop.\n",
    "\n",
    "sum_even=0\n",
    "sum_odd=0\n",
    "\n",
    "for i in range(1,51):\n",
    "    if i%2==0:\n",
    "        sum_even=sum_even+i\n",
    "    else:\n",
    "        sum_odd = sum_odd+i\n",
    "\n",
    "print(\"The sum of odd numbers from 1 to 50 is {} and the sum of even numbers is {}\".format(sum_odd,sum_even))"
   ]
  },
  {
   "cell_type": "code",
   "execution_count": 75,
   "id": "791f15fe",
   "metadata": {},
   "outputs": [
    {
     "name": "stdout",
     "output_type": "stream",
     "text": [
      "Enter a year2020\n",
      "Leap Year\n"
     ]
    }
   ],
   "source": [
    "#21.Write a Python program that checks if a given year is a leap year using a for loop\n",
    "\n",
    "year = int(input('Enter a year'))\n",
    "\n",
    "if year % 4 == 0 and (year % 100 != 0 or year % 400 == 0):\n",
    "    print(\"Leap Year\")\n",
    "else:\n",
    "    print(\"Not Leap Year\")\n"
   ]
  },
  {
   "cell_type": "code",
   "execution_count": 80,
   "id": "681d54a8",
   "metadata": {},
   "outputs": [
    {
     "name": "stdout",
     "output_type": "stream",
     "text": [
      "Enter a number\n",
      "100\n",
      "Square root of 100 is 10\n"
     ]
    }
   ],
   "source": [
    "##22.Create a Python program that calculates the square root of a number using a for loop.\n",
    "\n",
    "num = int(input(\"Enter a number\\n\"))\n",
    "\n",
    "for i in range(1,int(num/2)):\n",
    "    if i*i==num:\n",
    "        break\n",
    "\n",
    "\n",
    "print(\"Square root of {} is {}\".format(num,i))"
   ]
  },
  {
   "cell_type": "code",
   "execution_count": 83,
   "id": "951cd37a",
   "metadata": {},
   "outputs": [
    {
     "name": "stdout",
     "output_type": "stream",
     "text": [
      "LCM is 50\n"
     ]
    }
   ],
   "source": [
    "#23.Write a Python program to find the LCM (Least Common Multiple) of two numbers using a for loop.\n",
    "\n",
    "a = 10\n",
    "b =25\n",
    "\n",
    "for i in range(1,(a*b)+1):\n",
    "    if (i%a==0)&(i%b==0):\n",
    "        break\n",
    "\n",
    "print(\"LCM is\", i)"
   ]
  },
  {
   "cell_type": "code",
   "execution_count": null,
   "id": "504ed2e1",
   "metadata": {},
   "outputs": [],
   "source": []
  },
  {
   "cell_type": "markdown",
   "id": "5b5daf39",
   "metadata": {},
   "source": [
    "#### If Else"
   ]
  },
  {
   "cell_type": "code",
   "execution_count": 5,
   "id": "6fd93444",
   "metadata": {},
   "outputs": [
    {
     "name": "stdout",
     "output_type": "stream",
     "text": [
      "Enter a number\n",
      "89\n",
      "Positive number\n"
     ]
    }
   ],
   "source": [
    "#1.\tWrite a Python program to check if a number is positive, negative, or zero using an if-else statement.\n",
    "\n",
    "num = int(input('Enter a number\\n'))\n",
    "\n",
    "if num>0:\n",
    "    print('Positive number')\n",
    "elif num<0:\n",
    "    print('Negative number')\n",
    "else:\n",
    "    print('It is Zero')\n"
   ]
  },
  {
   "cell_type": "code",
   "execution_count": 7,
   "id": "394b4f63",
   "metadata": {},
   "outputs": [
    {
     "name": "stdout",
     "output_type": "stream",
     "text": [
      "Enter a number\n",
      "90\n",
      "90 is even number\n"
     ]
    }
   ],
   "source": [
    "#2.Create a Python program that checks if a given number is even or odd using an if-else statement.\n",
    " \n",
    "num = int(input('Enter a number\\n'))\n",
    "\n",
    "if num%2==0:\n",
    "    print(num,'is even number')\n",
    "else:\n",
    "    print(num,'is odd number')\n"
   ]
  },
  {
   "cell_type": "code",
   "execution_count": 8,
   "id": "9383a98e",
   "metadata": {},
   "outputs": [
    {
     "name": "stdout",
     "output_type": "stream",
     "text": [
      "Enter a number\n",
      "17\n",
      "Positive number\n",
      "Number is odd\n"
     ]
    }
   ],
   "source": [
    "#3.How can you use nested if-else statements in Python, and provide an example?\n",
    "num = int(input('Enter a number\\n'))\n",
    "\n",
    "if num>0:\n",
    "    print('Positive number')\n",
    "    if num%2==0:\n",
    "        print('Number is even')\n",
    "    else:\n",
    "        print('Number is odd')\n",
    "elif num<0:\n",
    "    print('Negative number')\n",
    "else:\n",
    "    print('It is Zero')\n"
   ]
  },
  {
   "cell_type": "code",
   "execution_count": 10,
   "id": "37254dfe",
   "metadata": {},
   "outputs": [
    {
     "name": "stdout",
     "output_type": "stream",
     "text": [
      "Enter a number\n",
      "10\n",
      "Enter a number\n",
      "24\n",
      "Enter a number\n",
      "9\n",
      "24 is largest\n"
     ]
    }
   ],
   "source": [
    "#4.Write a Python program to determine the largest of three numbers using if-else.\n",
    "num1 = int(input('Enter a number\\n'))\n",
    "num2 = int(input('Enter a number\\n'))\n",
    "num3 = int(input('Enter a number\\n'))\n",
    "\n",
    "if num1>num2 and num1>num3:\n",
    "    print(num1,'is largest number')\n",
    "elif num2>num1 and num2>num3:\n",
    "    print(num2,'is largest')\n",
    "else:\n",
    "    print(num3,'is largest')"
   ]
  },
  {
   "cell_type": "code",
   "execution_count": 12,
   "id": "a13fbbda",
   "metadata": {},
   "outputs": [
    {
     "name": "stdout",
     "output_type": "stream",
     "text": [
      "Enter a number\n",
      "0\n",
      "0\n"
     ]
    }
   ],
   "source": [
    "#5.Write a Python program that calculates the absolute value of a number using if-else.\n",
    "\n",
    "num = int(input('Enter a number\\n'))\n",
    "\n",
    "if num>=0:\n",
    "    print(num)\n",
    "else:\n",
    "    print(-1*num)"
   ]
  },
  {
   "cell_type": "code",
   "execution_count": 15,
   "id": "1a6cd688",
   "metadata": {},
   "outputs": [
    {
     "name": "stdout",
     "output_type": "stream",
     "text": [
      "Enter a character\n",
      "g\n",
      "Consonant\n"
     ]
    }
   ],
   "source": [
    "#6.Create a Python program that checks if a given character is a vowel or consonant using if-else.\n",
    "\n",
    "vow =['a','e','i','o','u']\n",
    "str =input('Enter a character\\n')\n",
    "\n",
    "if str in vow:\n",
    "    print('Vowels')\n",
    "else:\n",
    "    print('Consonant')"
   ]
  },
  {
   "cell_type": "code",
   "execution_count": 17,
   "id": "22f1bdbe",
   "metadata": {},
   "outputs": [
    {
     "name": "stdout",
     "output_type": "stream",
     "text": [
      "Enter your age\n",
      "11\n",
      "You are not eligible to vote\n"
     ]
    }
   ],
   "source": [
    "#7.\tWrite a Python program to determine if a user is eligible to vote based on their age using if-else.\n",
    "\n",
    "age = int(input('Enter your age\\n'))\n",
    "\n",
    "if age>=18:\n",
    "    print('You are eligible for vote')\n",
    "else:\n",
    "    print('You are not eligible to vote')"
   ]
  },
  {
   "cell_type": "code",
   "execution_count": 19,
   "id": "31f1e9ac",
   "metadata": {},
   "outputs": [
    {
     "name": "stdout",
     "output_type": "stream",
     "text": [
      "Enter the price of the product\n",
      "100\n",
      "Enter the purchased amount\n",
      "78\n",
      "Discount availed is 22\n"
     ]
    }
   ],
   "source": [
    "#8.\tCreate a Python program that calculates the discount amount based on the purchase amount using if-else.\n",
    "\n",
    "prod_price =int(input('Enter the price of the product\\n'))\n",
    "pur_amount=int(input('Enter the purchased amount\\n'))\n",
    "\n",
    "discount =prod_price-pur_amount\n",
    "\n",
    "if prod_price>pur_amount:\n",
    "    print('Discount availed is',discount)\n",
    "else:\n",
    "    print('no discount on purchase')\n",
    "    "
   ]
  },
  {
   "cell_type": "code",
   "execution_count": 20,
   "id": "b340641e",
   "metadata": {},
   "outputs": [
    {
     "name": "stdout",
     "output_type": "stream",
     "text": [
      "Enter a number\n",
      "56\n",
      "Enter a lower range\n",
      "5\n",
      "Enter a upper range\n",
      "100\n",
      "number is with specified range\n"
     ]
    }
   ],
   "source": [
    "#9.Write a Python program to check if a number is within a specified range using if-else.\n",
    "num = int(input('Enter a number\\n'))\n",
    "low = int(input('Enter a lower range\\n'))\n",
    "high = int(input('Enter a upper range\\n'))\n",
    "\n",
    "if num >=low and num<=high:\n",
    "    print('number is with specified range')"
   ]
  },
  {
   "cell_type": "code",
   "execution_count": 26,
   "id": "3b5ac861",
   "metadata": {},
   "outputs": [
    {
     "name": "stdout",
     "output_type": "stream",
     "text": [
      "Enter marks\n",
      "60\n",
      "B\n"
     ]
    }
   ],
   "source": [
    "#10.\tCreate a Python program that determines the grade of a student based on their score using if-else.\n",
    "num=int(input('Enter marks\\n'))\n",
    "\n",
    "if num>80:\n",
    "    print('A+')\n",
    "elif num >70 and num<=80:\n",
    "    print('A')\n",
    "elif num>60 and num<=70:\n",
    "    print('B+')\n",
    "elif num>50 and num<=60:\n",
    "    print('B')\n",
    "elif num >40 and num<=50:\n",
    "    print('C')\n",
    "else:\n",
    "    print('Fail')"
   ]
  },
  {
   "cell_type": "code",
   "execution_count": 29,
   "id": "6e8cfdc2",
   "metadata": {},
   "outputs": [
    {
     "name": "stdout",
     "output_type": "stream",
     "text": [
      "Enter a string\n",
      "ckhbadkjvh\n",
      "Non Empty string\n"
     ]
    }
   ],
   "source": [
    "#11.Write a Python program to check if a string is empty or not using if-else.\n",
    "\n",
    "str=input('Enter a string\\n')\n",
    "\n",
    "if len(str)==0:\n",
    "    print('Empty string')\n",
    "else:\n",
    "    print('Non Empty string')"
   ]
  },
  {
   "cell_type": "code",
   "execution_count": 34,
   "id": "f2534452",
   "metadata": {},
   "outputs": [
    {
     "name": "stdout",
     "output_type": "stream",
     "text": [
      "Enter side 1 length\n",
      "4\n",
      "Enter side 2 length\n",
      "5\n",
      "Enter side 3 length\n",
      "5\n",
      "isoceles triangle\n"
     ]
    }
   ],
   "source": [
    "#12.\tCreate a Python program that identifies the type of a triangle (e.g., equilateral, isosceles, or scalene) based on input values using if-else.\n",
    "side1 = int(input('Enter side 1 length\\n'))\n",
    "side2 = int(input('Enter side 2 length\\n'))\n",
    "side3 = int(input('Enter side 3 length\\n'))\n",
    "\n",
    "if side1==side2 and side1==side3:\n",
    "    print(\"equilateral triangle\")\n",
    "elif side1 !=side2 and side2!=side3 and side1!=side3:\n",
    "    print(\"sclaene traiangle\")\n",
    "else:\n",
    "    print(\"isoceles triangle\")"
   ]
  },
  {
   "cell_type": "code",
   "execution_count": 35,
   "id": "785fe166",
   "metadata": {},
   "outputs": [
    {
     "name": "stdout",
     "output_type": "stream",
     "text": [
      "Enter a number from 1 to 7: 5\n",
      "5 is Thursday\n"
     ]
    }
   ],
   "source": [
    "#13.Write a Python program to determine the day of the week based on a user-provided number using if-else.\n",
    "day = int(input(\"Enter a number from 1 to 7: \"))\n",
    "\n",
    "if day == 1:\n",
    "    print(day, \"is Sunday\")\n",
    "elif day == 2:\n",
    "    print(day, \"is Monday\")\n",
    "elif day == 3:\n",
    "    print(day, \"is Tuesday\")\n",
    "elif day == 4:\n",
    "    print(day, \"is Wednesday\")\n",
    "elif day == 5:\n",
    "    print(day, \"is Thursday\")\n",
    "elif day == 6:\n",
    "    print(day, \"is Friday\")\n",
    "elif day == 7:\n",
    "    print(day, \"is Saturday\")\n",
    "else:\n",
    "    print(\"Wrong input! Please enter a number from 1 to 7.\")"
   ]
  },
  {
   "cell_type": "code",
   "execution_count": 36,
   "id": "c266f030",
   "metadata": {},
   "outputs": [
    {
     "name": "stdout",
     "output_type": "stream",
     "text": [
      "Enter a year2022\n",
      "Not Leap Year\n"
     ]
    }
   ],
   "source": [
    "#14.\tCreate a Python program that checks if a given year is a leap year using both if-else and a function.\n",
    "year = int(input('Enter a year'))\n",
    "\n",
    "if year % 4 == 0 and (year % 100 != 0 or year % 400 == 0):\n",
    "    print(\"Leap Year\")\n",
    "else:\n",
    "    print(\"Not Leap Year\")"
   ]
  },
  {
   "cell_type": "markdown",
   "id": "c4e6d0a1",
   "metadata": {},
   "source": [
    "##### 15.How do you use the \"assert\" statement in Python to add debugging checks within if-else blocks?\n",
    "<p>The assert keyword is used when debugging code. \n",
    "The assert keyword lets you test if a condition in your code returns True, if not, the program will raise an AssertionError.\n",
    "You can write a message to be written if the code returns False </p>"
   ]
  },
  {
   "cell_type": "code",
   "execution_count": null,
   "id": "2bf02560",
   "metadata": {},
   "outputs": [],
   "source": []
  },
  {
   "cell_type": "code",
   "execution_count": 6,
   "id": "bc81c0a2",
   "metadata": {},
   "outputs": [
    {
     "name": "stdout",
     "output_type": "stream",
     "text": [
      "Enter Age\n",
      "98\n",
      "Eligible for 30% discount\n"
     ]
    }
   ],
   "source": [
    "#16.Create a Python program that determines the eligibility of a person for a senior citizen discount based on age using if-else.\n",
    "\n",
    "age = int(input('Enter Age\\n'))\n",
    "\n",
    "if age<=60:\n",
    "    print('Not Eligible for discount')\n",
    "elif age>80:\n",
    "    print('Eligible for 30% discount')\n",
    "elif age>70:\n",
    "    print('Eligible for 20% discount')\n",
    "    \n",
    "else:\n",
    "    print('Eligible for 10% discount')\n"
   ]
  },
  {
   "cell_type": "code",
   "execution_count": 9,
   "id": "4e0fbaab",
   "metadata": {},
   "outputs": [
    {
     "name": "stdout",
     "output_type": "stream",
     "text": [
      "Enter a charatcer\n",
      "1\n",
      "niether\n"
     ]
    }
   ],
   "source": [
    "#17.Write a Python program to categorize a given character as uppercase, lowercase, or neither using if-else.\n",
    "\n",
    "ch = input('Enter a charatcer\\n')\n",
    "\n",
    "if ch.isupper()==True:\n",
    "    print('upper case')\n",
    "elif ch.islower()==True:\n",
    "    print('lower case')\n",
    "else:\n",
    "    print('niether')"
   ]
  },
  {
   "cell_type": "code",
   "execution_count": 21,
   "id": "2cca0647",
   "metadata": {},
   "outputs": [
    {
     "name": "stdout",
     "output_type": "stream",
     "text": [
      "Enter a number\n",
      "2\n",
      "Enter a number\n",
      "4\n",
      "Enter a number\n",
      "2\n",
      "This equation has real and equal roots\n",
      "-1.0\n"
     ]
    }
   ],
   "source": [
    "#18.Write a Python program to determine the roots of a quadratic equation using if-else.\n",
    "\n",
    "# #ax^2+bx+c=0\n",
    "# d=b^2-4ac\n",
    "# if d=0, real and equal roots\n",
    "# d<0, irrational roots\n",
    "# d>0, real and unqeual roots\n",
    "#root = (-b+sqrt(d))/2a,(-b-sqrt(d))/2a\n",
    "\n",
    "import math\n",
    "\n",
    "a = int(input('Enter a number\\n'))\n",
    "b = int(input('Enter a number\\n'))\n",
    "c = int(input('Enter a number\\n'))\n",
    "\n",
    "d = (b*b)-(4*a*c)\n",
    "\n",
    "\n",
    "if d==0:\n",
    "    print('This equation has real and equal roots')\n",
    "    roots = (-1*b)/(2*a)\n",
    "    print(roots)\n",
    "elif d>0:\n",
    "    root1 = ((-1*b)+math.sqrt(d))/(2*a)\n",
    "    root2 = ((-1*b)-math.sqrt(d))/(2*a)\n",
    "    print('This equation has real and unequal roots')\n",
    "    print(root1, root2)\n",
    "else:\n",
    "    root1 = ((-1*b)+complex(math.sqrt(abs(d))))/(2*a)\n",
    "    root2 = ((-1*b)-complex(math.sqrt(abs(d))))/(2*a)\n",
    "    print('This equation has unreal and unequal roots')\n",
    "    print(root1, root2)\n",
    "    "
   ]
  },
  {
   "cell_type": "markdown",
   "id": "617e8d12",
   "metadata": {},
   "source": [
    "##### 21.Explain the purpose of the \"continue\" and \"break\" statements within if-else loops\n",
    "<p>The continue and break statements are used to control the flow of a loop in Python.\n",
    "The continue statement is used to skip the current iteration of a loop and move on to the next iteration. When the continue statement is encountered in a loop, the current iteration of the loop is terminated and the next iteration begins immediately.\n",
    "The break statement is used to exit a loop prematurely. When the break statement is encountered in a loop, the loop is terminated immediately and the program continues with the next statement after the loop. </p>"
   ]
  },
  {
   "cell_type": "code",
   "execution_count": 26,
   "id": "1f23b72a",
   "metadata": {},
   "outputs": [
    {
     "name": "stdout",
     "output_type": "stream",
     "text": [
      "Enter the weight\n",
      "72\n",
      "Enter the hieght in meter\n",
      "1.78\n",
      "Normal 22.724403484408533\n"
     ]
    }
   ],
   "source": [
    "#22.Create a Python program that calculates the BMI (Body Mass Index) of a person based on their weight and height using if-else.\n",
    "#BMI =weight/(height^2)\n",
    "# Below 18.5\tUnderweight\n",
    "# 18.5 - 24.9\tNormal\n",
    "# 25.0 - 29.9\tOverweight\n",
    "# 30.0 and above\tObese\n",
    "\n",
    "w = float(input('Enter the weight\\n'))\n",
    "h = float(input('Enter the hieght in meter\\n'))\n",
    "\n",
    "BMI = w/(h*h)\n",
    "if BMI <18.5:\n",
    "    print('Underweight',BMI)\n",
    "elif BMI>=18.5 and BMI<25:\n",
    "    print('Normal',BMI)\n",
    "elif BMI>=25 and BMI <30:\n",
    "    print('Overweight',BMI)\n",
    "else:\n",
    "    print('Obese', BMI)"
   ]
  },
  {
   "cell_type": "code",
   "execution_count": null,
   "id": "db7df320",
   "metadata": {},
   "outputs": [],
   "source": [
    "#23.How can you use the \"filter()\" function with if-else statements to filter elements from a list?\n"
   ]
  },
  {
   "cell_type": "markdown",
   "id": "f5d44fb4",
   "metadata": {},
   "source": [
    "#### Map functions"
   ]
  },
  {
   "cell_type": "markdown",
   "id": "6872828a",
   "metadata": {},
   "source": [
    "##### 1.Explain the purpose of the `map()` function in Python and provide an example of how it can be used to apply a function to each element of an iterable.\n",
    "<p> Map function is used to map each element of an iterable(list, dict, tuple etc) to a function </p>"
   ]
  },
  {
   "cell_type": "code",
   "execution_count": 29,
   "id": "01612bcb",
   "metadata": {},
   "outputs": [
    {
     "data": {
      "text/plain": [
       "[2, 3, 4, 5, 6, 7]"
      ]
     },
     "execution_count": 29,
     "metadata": {},
     "output_type": "execute_result"
    }
   ],
   "source": [
    "l = [1,2,3,4,5,6]\n",
    "list(map(lambda x:x+1,l))"
   ]
  },
  {
   "cell_type": "code",
   "execution_count": 30,
   "id": "b614ea01",
   "metadata": {},
   "outputs": [
    {
     "data": {
      "text/plain": [
       "[1, 4, 9, 16, 25, 36]"
      ]
     },
     "execution_count": 30,
     "metadata": {},
     "output_type": "execute_result"
    }
   ],
   "source": [
    "#2.\tWrite a Python program that uses the `map()` function to square each element of a list of numbers.\n",
    "l = [1,2,3,4,5,6]\n",
    "list(map(lambda x: x**2,l))"
   ]
  },
  {
   "cell_type": "markdown",
   "id": "8283d07e",
   "metadata": {},
   "source": [
    "##### 3.How does the `map()` function differ from a list comprehension in Python, and when would you choose one over the other?\n",
    "<p> List comprehensions are a concise way to create lists. It consists of square brackets containing an expression followed by the “for” keyword. The result will be a list whose\n",
    "results match the expression.\n",
    "\n",
    "Map in Python is a function that works as an iterator to return a result after applying a function to every item of an iterable (tuple, lists, etc.) \n",
    "\n",
    "Map() takes a function and an iterable as arguments and applies the function to each item in the iterable. It returns a new iterable with the results.\n",
    "List comprehension uses a for loop to create a new list. The for loop iterates over an iterable and creates a new list item for each item in the iterable. </p>"
   ]
  },
  {
   "cell_type": "code",
   "execution_count": 35,
   "id": "1b4beaa4",
   "metadata": {},
   "outputs": [
    {
     "data": {
      "text/plain": [
       "['MAHABIR', 'DILEEP', 'MASTAN', 'NAMITA', 'DEEPIKA']"
      ]
     },
     "execution_count": 35,
     "metadata": {},
     "output_type": "execute_result"
    }
   ],
   "source": [
    "#4.\tCreate a Python program that uses the `map()` function to convert a list of names to uppercase\n",
    "names =['mahabir','dileep','mastan','namita','deepika']\n",
    "\n",
    "list(map(lambda x: x.upper(),names))"
   ]
  },
  {
   "cell_type": "code",
   "execution_count": 37,
   "id": "5ab758a2",
   "metadata": {},
   "outputs": [
    {
     "data": {
      "text/plain": [
       "[7, 6, 6, 6, 7]"
      ]
     },
     "execution_count": 37,
     "metadata": {},
     "output_type": "execute_result"
    }
   ],
   "source": [
    "#5.\tWrite a Python program that uses the `map()` function to calculate the length of each word in a list of strings.\n",
    "names =['mahabir','dileep','mastan','namita','deepika']\n",
    "\n",
    "list(map(lambda x:len(x),names))"
   ]
  },
  {
   "cell_type": "code",
   "execution_count": 42,
   "id": "735b5172",
   "metadata": {},
   "outputs": [
    {
     "data": {
      "text/plain": [
       "[11, 13, 15, 17, 19, 21]"
      ]
     },
     "execution_count": 42,
     "metadata": {},
     "output_type": "execute_result"
    }
   ],
   "source": [
    "#6.How can you use the `map()` function to apply a custom function to elements of multiple lists simultaneously in Python?\n",
    "\n",
    "def sum(a,b):\n",
    "    return a+b\n",
    "\n",
    "lst1 =[1,2,3,4,5,6,7]\n",
    "lst2=[10,11,12,13,14,15]\n",
    "\n",
    "list(map(sum,lst1,lst2))\n"
   ]
  },
  {
   "cell_type": "code",
   "execution_count": 43,
   "id": "853d1899",
   "metadata": {},
   "outputs": [
    {
     "data": {
      "text/plain": [
       "[11, 13, 15, 17, 19, 21]"
      ]
     },
     "execution_count": 43,
     "metadata": {},
     "output_type": "execute_result"
    }
   ],
   "source": [
    "list(map(lambda x,y:x+y,lst1,lst2))"
   ]
  },
  {
   "cell_type": "code",
   "execution_count": 45,
   "id": "99c9c8b0",
   "metadata": {},
   "outputs": [
    {
     "data": {
      "text/plain": [
       "[53.6, 75.2, 93.2, 113.0, 132.8, 140.0]"
      ]
     },
     "execution_count": 45,
     "metadata": {},
     "output_type": "execute_result"
    }
   ],
   "source": [
    "#7.\tCreate a Python program that uses `map()` to convert a list of temperatures from Celsius to Fahrenheit.\n",
    "cel =[12,24,34,45,56,60]\n",
    "\n",
    "def temp_convert(a):\n",
    "    b = (a*9/5)+32\n",
    "    return b\n",
    "\n",
    "farenheigth = list(map(temp_convert,cel))\n",
    "farenheigth"
   ]
  },
  {
   "cell_type": "code",
   "execution_count": 46,
   "id": "5d34bf10",
   "metadata": {},
   "outputs": [
    {
     "data": {
      "text/plain": [
       "[12, 12, 3, 1, 2, 6]"
      ]
     },
     "execution_count": 46,
     "metadata": {},
     "output_type": "execute_result"
    }
   ],
   "source": [
    "#8.\tWrite a Python program that uses the `map()` function to round each element of a list of floating-point numbers to the neearest integer.\n",
    "\n",
    "lst =[12.5,12.9,3.8,1.2,2.6,6.7]\n",
    "\n",
    "list(map(lambda x:int(x),lst))\n"
   ]
  },
  {
   "cell_type": "markdown",
   "id": "da611965",
   "metadata": {},
   "source": [
    "### Reduce Functions"
   ]
  },
  {
   "cell_type": "markdown",
   "id": "be0674a8",
   "metadata": {},
   "source": [
    "#### 1.\tWhat is the `reduce()` function in Python, and what module should you import to use it? Provide an example of its basic usage\n",
    "<p>\n",
    "The reduce() function in Python is a built-in function that takes a function and an iterable as arguments and returns a single value.  To use reduce funciton you need to import it \"from functools import reduce\". </p>"
   ]
  },
  {
   "cell_type": "code",
   "execution_count": 3,
   "id": "b3428668",
   "metadata": {},
   "outputs": [],
   "source": [
    "from functools import reduce"
   ]
  },
  {
   "cell_type": "code",
   "execution_count": 2,
   "id": "c38e38e3",
   "metadata": {},
   "outputs": [
    {
     "name": "stdout",
     "output_type": "stream",
     "text": [
      "15\n"
     ]
    }
   ],
   "source": [
    "# def sum(numbers):\n",
    "#     return reduce(lambda x, y: x + y, numbers)\n",
    "\n",
    "# numbers = [1, 2, 3, 4, 5]\n",
    "# total = sum(numbers)\n",
    "# print(total) "
   ]
  },
  {
   "cell_type": "code",
   "execution_count": 4,
   "id": "247e9c2e",
   "metadata": {},
   "outputs": [
    {
     "data": {
      "text/plain": [
       "15"
      ]
     },
     "execution_count": 4,
     "metadata": {},
     "output_type": "execute_result"
    }
   ],
   "source": [
    "numbers = [1, 2, 3, 4, 5]\n",
    "reduce(lambda x, y: x + y, numbers)\n",
    "\n",
    "\n"
   ]
  },
  {
   "cell_type": "code",
   "execution_count": 5,
   "id": "2db2e1b8",
   "metadata": {},
   "outputs": [
    {
     "data": {
      "text/plain": [
       "5040"
      ]
     },
     "execution_count": 5,
     "metadata": {},
     "output_type": "execute_result"
    }
   ],
   "source": [
    "#2.\tWrite a Python program that uses the `reduce()` function to find the product of all elements in a list.\n",
    "l =[1,2,3,4,5,6,7]\n",
    "\n",
    "reduce(lambda x,y:x*y,l)"
   ]
  },
  {
   "cell_type": "code",
   "execution_count": 7,
   "id": "85392330",
   "metadata": {},
   "outputs": [
    {
     "data": {
      "text/plain": [
       "45"
      ]
     },
     "execution_count": 7,
     "metadata": {},
     "output_type": "execute_result"
    }
   ],
   "source": [
    "#3.\tCreate a Python program that uses `reduce()` to find the maximum element in a list of numbers.\n",
    "l =[1,2,3,45,5,6,7]\n",
    "\n",
    "reduce(lambda x,y:x if x>y else y,l)"
   ]
  },
  {
   "cell_type": "code",
   "execution_count": 8,
   "id": "e32cb9eb",
   "metadata": {},
   "outputs": [
    {
     "data": {
      "text/plain": [
       "'Hello'"
      ]
     },
     "execution_count": 8,
     "metadata": {},
     "output_type": "execute_result"
    }
   ],
   "source": [
    "#4.\tHow can you use the `reduce()` function to concatenate a list of strings into a single string?\n",
    "\n",
    "str_list =['H','e','l','l','o']\n",
    "reduce(lambda x,y:x+y,str_list)"
   ]
  },
  {
   "cell_type": "code",
   "execution_count": 11,
   "id": "9b985cbf",
   "metadata": {},
   "outputs": [
    {
     "name": "stdout",
     "output_type": "stream",
     "text": [
      "Enter a number\n",
      "6\n"
     ]
    },
    {
     "data": {
      "text/plain": [
       "720"
      ]
     },
     "execution_count": 11,
     "metadata": {},
     "output_type": "execute_result"
    }
   ],
   "source": [
    "#5.\tWrite a Python program that calculates the factorial of a number using the `reduce()` function.\n",
    "num = int(input('Enter a number\\n'))\n",
    "\n",
    "reduce(lambda x,y:x*y, range(1,num+1))\n"
   ]
  },
  {
   "cell_type": "code",
   "execution_count": 13,
   "id": "cc5782a2",
   "metadata": {},
   "outputs": [
    {
     "data": {
      "text/plain": [
       "1"
      ]
     },
     "execution_count": 13,
     "metadata": {},
     "output_type": "execute_result"
    }
   ],
   "source": [
    "#6.\tCreate a Python program that uses `reduce()` to find the GCD (Greatest Common Divisor) of a list of numbers\n",
    "l=[1,2,3,4,5,6,7,8,9]\n",
    "\n",
    "def gcd(a,b):\n",
    "    if a<b:\n",
    "        temp=a\n",
    "    else:\n",
    "        temp=b\n",
    "        \n",
    "    for i in range(1,temp+1):\n",
    "        if (a%i==0) and (b%i==0):\n",
    "            return i\n",
    "    \n",
    "\n",
    "reduce(gcd,l  )\n"
   ]
  },
  {
   "cell_type": "code",
   "execution_count": 30,
   "id": "39ebecc7",
   "metadata": {},
   "outputs": [
    {
     "data": {
      "text/plain": [
       "6"
      ]
     },
     "execution_count": 30,
     "metadata": {},
     "output_type": "execute_result"
    }
   ],
   "source": [
    "#7.\tWrite a Python program that uses the `reduce()` function to find the sum of the digits of a given number.\n",
    "\n",
    "num1 = 123\n",
    "l=[]\n",
    "while num1!=0:\n",
    "    l.append(num1%10)\n",
    "    num1 = num1//10\n",
    "l\n",
    "\n",
    "reduce(lambda x,y:x+y,l)"
   ]
  },
  {
   "cell_type": "markdown",
   "id": "15ee0ee6",
   "metadata": {},
   "source": [
    "#### Filter functions"
   ]
  },
  {
   "cell_type": "markdown",
   "id": "0b260aba",
   "metadata": {},
   "source": [
    "##### 1.\tExplain the purpose of the `filter()` function in Python and provide an example of how it can be used to filter elements from an iterable.\n",
    "\n",
    "<p>\n",
    "The filter() function in Python is a built-in function that takes an iterable (such as a list, tuple, or set) and a function as arguments and returns a new iterable containing the elements of the original iterable for which the function returns True.</p>"
   ]
  },
  {
   "cell_type": "code",
   "execution_count": 41,
   "id": "f3c9bad3",
   "metadata": {},
   "outputs": [
    {
     "data": {
      "text/plain": [
       "[2, 4, 6, 8, 10]"
      ]
     },
     "execution_count": 41,
     "metadata": {},
     "output_type": "execute_result"
    }
   ],
   "source": [
    "#2.\tWrite a Python program that uses the `filter()` function to select even numbers from a list of integers.\n",
    "l=[1,2,3,4,5,6,7,8,9,10]\n",
    "\n",
    "list(filter(lambda x:x%2==0,l))"
   ]
  },
  {
   "cell_type": "code",
   "execution_count": 46,
   "id": "dc5a05ce",
   "metadata": {},
   "outputs": [
    {
     "data": {
      "text/plain": [
       "['dileep', 'deepika']"
      ]
     },
     "execution_count": 46,
     "metadata": {},
     "output_type": "execute_result"
    }
   ],
   "source": [
    "#3.\tCreate a Python program that uses the `filter()` function to select names that start with a specific letter from a list of strings.\n",
    "names =['mahabir','dileep','mastan','namita','deepika']\n",
    "\n",
    "list(filter(lambda x:x.startswith('d'),names))"
   ]
  },
  {
   "cell_type": "code",
   "execution_count": 1,
   "id": "477c5390",
   "metadata": {},
   "outputs": [
    {
     "data": {
      "text/plain": [
       "[2, 3, 5, 7]"
      ]
     },
     "execution_count": 1,
     "metadata": {},
     "output_type": "execute_result"
    }
   ],
   "source": [
    "#4.\tWrite a Python program that uses the `filter()` function to select prime numbers from a list of integers.\n",
    "l=[1,2,3,4,5,6,7,8,9,10]\n",
    "\n",
    "def prime(num):\n",
    "    count=0\n",
    "    for i in range(1,num+1):\n",
    "        if num%i==0:\n",
    "            count=count+1\n",
    "    if count !=2:\n",
    "        return False\n",
    "    else : return True\n",
    "\n",
    "\n",
    "list(filter(prime,l))\n",
    "    \n",
    "            \n",
    "            "
   ]
  },
  {
   "cell_type": "markdown",
   "id": "48984e6b",
   "metadata": {},
   "source": [
    "#### Recursion"
   ]
  },
  {
   "cell_type": "markdown",
   "id": "5c8ea590",
   "metadata": {},
   "source": [
    "##### 1.Explain the concept of recursion in Python. How does it differ from iteration?\n",
    "<p> Recursion occurs when a statement in a function calls itself repeatedly. The iteration occurs when a loop repeatedly executes until the controlling condition becomes false.</p>"
   ]
  },
  {
   "cell_type": "code",
   "execution_count": 3,
   "id": "d80b8d1e",
   "metadata": {},
   "outputs": [
    {
     "data": {
      "text/plain": [
       "120"
      ]
     },
     "execution_count": 3,
     "metadata": {},
     "output_type": "execute_result"
    }
   ],
   "source": [
    "#2.\tWrite a Python program to calculate the factorial of a number using recursion.\n",
    "\n",
    "def fact(num):\n",
    "    if num==0:\n",
    "        return 1\n",
    "    else:\n",
    "        return num*fact(num-1)\n",
    "\n",
    "fact(5) "
   ]
  },
  {
   "cell_type": "code",
   "execution_count": 4,
   "id": "cb083328",
   "metadata": {},
   "outputs": [],
   "source": [
    "#3.\tCreate a recursive Python function to find the nth Fibonacci number.\n",
    "\n",
    "def gen_fib(n) : \n",
    "    if n <=1 :\n",
    "        return n \n",
    "    else:\n",
    "        return gen_fib(n-1) + gen_fib(n-2)"
   ]
  },
  {
   "cell_type": "code",
   "execution_count": 5,
   "id": "72bbf06a",
   "metadata": {},
   "outputs": [
    {
     "data": {
      "text/plain": [
       "2"
      ]
     },
     "execution_count": 5,
     "metadata": {},
     "output_type": "execute_result"
    }
   ],
   "source": [
    "gen_fib(3)"
   ]
  },
  {
   "cell_type": "code",
   "execution_count": 8,
   "id": "6567f85f",
   "metadata": {},
   "outputs": [],
   "source": [
    "#4.Write a recursive Python function to calculate the sum of all elements in a list.\n",
    "\n",
    "# def sum(l):\n",
    "#     sum=0\n",
    "#     for i in l:\n",
    "#         sum = sum+i\n",
    "#     return sum\n",
    "def sum(l):\n",
    "    if len(l)==0:\n",
    "        return 0\n",
    "    else:\n",
    "        #print(l[0])\n",
    "        return l[0]+sum(l[1:])"
   ]
  },
  {
   "cell_type": "code",
   "execution_count": 9,
   "id": "2c4ad91b",
   "metadata": {},
   "outputs": [
    {
     "name": "stdout",
     "output_type": "stream",
     "text": [
      "1\n",
      "2\n",
      "3\n",
      "4\n",
      "5\n"
     ]
    },
    {
     "data": {
      "text/plain": [
       "15"
      ]
     },
     "execution_count": 9,
     "metadata": {},
     "output_type": "execute_result"
    }
   ],
   "source": [
    "a = sum([1,2,3,4,5])\n",
    "a"
   ]
  },
  {
   "cell_type": "markdown",
   "id": "a73512b7",
   "metadata": {},
   "source": [
    "##### 5.\tHow can you prevent a recursive function from running indefinitely, causing a stack overflow error?\n",
    "<p>To prevent infinite recursion, you should always have a clear and reachable base case, and validate your input before passing it to the recursive function.</p>\n"
   ]
  },
  {
   "cell_type": "code",
   "execution_count": 16,
   "id": "fff7cc8c",
   "metadata": {},
   "outputs": [
    {
     "name": "stdout",
     "output_type": "stream",
     "text": [
      "31\n"
     ]
    }
   ],
   "source": [
    "#6.\tCreate a recursive Python function to find the greatest common divisor (GCD) of two numbers using the Euclidean algorithm.\n",
    "def gcd(a, b):\n",
    "    if a == b:\n",
    "        return a\n",
    "    elif a < b:\n",
    "        return gcd(b, a)\n",
    "    else:\n",
    "        return gcd(b, a - b)\n",
    "\n",
    "\n",
    "a = 31\n",
    "b = 62\n",
    "print(gcd(a, b))\n"
   ]
  },
  {
   "cell_type": "code",
   "execution_count": 42,
   "id": "c383a17e",
   "metadata": {},
   "outputs": [],
   "source": [
    "#7.\tWrite a recursive Python function to reverse a string.\n",
    "def rev(s):\n",
    "    if len(s)==0:\n",
    "        return ''\n",
    "    else:\n",
    "        return s[-1]+rev(s[:-1])"
   ]
  },
  {
   "cell_type": "code",
   "execution_count": 44,
   "id": "da692084",
   "metadata": {},
   "outputs": [
    {
     "data": {
      "text/plain": [
       "'dlrow'"
      ]
     },
     "execution_count": 44,
     "metadata": {},
     "output_type": "execute_result"
    }
   ],
   "source": [
    "a=rev('world')\n",
    "a"
   ]
  },
  {
   "cell_type": "code",
   "execution_count": 45,
   "id": "8606166e",
   "metadata": {},
   "outputs": [],
   "source": [
    "#8.\tCreate a recursive Python function to calculate the power of a number (x^n).\n",
    "\n",
    "def pow(a,b):\n",
    "    if b==0:\n",
    "        return 1\n",
    "    else:\n",
    "        return a* pow(a,b-1)"
   ]
  },
  {
   "cell_type": "code",
   "execution_count": 51,
   "id": "1ce359f9",
   "metadata": {},
   "outputs": [
    {
     "data": {
      "text/plain": [
       "16"
      ]
     },
     "execution_count": 51,
     "metadata": {},
     "output_type": "execute_result"
    }
   ],
   "source": [
    "p =pow(2,4)\n",
    "p"
   ]
  },
  {
   "cell_type": "code",
   "execution_count": null,
   "id": "b11c2ea2",
   "metadata": {},
   "outputs": [],
   "source": [
    "#9.\tWrite a recursive Python function to find all permutations of a given string.\n",
    "#could not think of the answer for this question"
   ]
  },
  {
   "cell_type": "code",
   "execution_count": 52,
   "id": "0f60637d",
   "metadata": {},
   "outputs": [],
   "source": [
    "#10.Write a recursive Python function to check if a string is a palindrome.\n",
    "\n",
    "def palindrome(l):\n",
    "    if len(l)<=1:\n",
    "        return 'Palindrome'\n",
    "    if l[0]!=l[-1]:\n",
    "        return 'Not Palindrome'\n",
    "    return palindrome(l[1:-1])\n",
    "    "
   ]
  },
  {
   "cell_type": "code",
   "execution_count": 55,
   "id": "bfc7ed71",
   "metadata": {},
   "outputs": [
    {
     "data": {
      "text/plain": [
       "'Not Palindrome'"
      ]
     },
     "execution_count": 55,
     "metadata": {},
     "output_type": "execute_result"
    }
   ],
   "source": [
    "c =palindrome('ABC')\n",
    "c"
   ]
  },
  {
   "cell_type": "code",
   "execution_count": null,
   "id": "f45817e7",
   "metadata": {},
   "outputs": [],
   "source": [
    "#11.\tCreate a recursive Python function to generate all possible combinations of a list of elements.\n"
   ]
  },
  {
   "cell_type": "markdown",
   "id": "d68b212c",
   "metadata": {},
   "source": [
    "#### Basics of Functions:"
   ]
  },
  {
   "cell_type": "markdown",
   "id": "997e0b2f",
   "metadata": {},
   "source": [
    "##### 1.\tWhat is a function in Python, and why is it used?\n",
    "\n",
    "<p>A function is a piece of code written to carry out a specified task. The function can be used repeatedly without having to write the same code again. </p>"
   ]
  },
  {
   "cell_type": "code",
   "execution_count": 56,
   "id": "e707cda0",
   "metadata": {},
   "outputs": [],
   "source": [
    "#2.\tHow do you define a function in Python? Provide an example.\n",
    "\n",
    "def test1():\n",
    "    print('hello')"
   ]
  },
  {
   "cell_type": "code",
   "execution_count": 57,
   "id": "0fc1c8bf",
   "metadata": {},
   "outputs": [
    {
     "name": "stdout",
     "output_type": "stream",
     "text": [
      "hello\n"
     ]
    }
   ],
   "source": [
    "test1()"
   ]
  },
  {
   "cell_type": "markdown",
   "id": "8c9fb5b0",
   "metadata": {},
   "source": [
    "##### 3.\tExplain the difference between a function definition and a function call.\n",
    "<p>A function definition creates the code for a function, while a function call uses that code to perform a task </p>"
   ]
  },
  {
   "cell_type": "code",
   "execution_count": 59,
   "id": "9ce8d4c7",
   "metadata": {},
   "outputs": [
    {
     "data": {
      "text/plain": [
       "7"
      ]
     },
     "execution_count": 59,
     "metadata": {},
     "output_type": "execute_result"
    }
   ],
   "source": [
    "#4.Write a Python program that defines a function to calculate the sum of two numbers and then calls the function\n",
    "\n",
    "def sum(a,b):\n",
    "    return a+b\n",
    "\n",
    "sum(3,4)"
   ]
  },
  {
   "cell_type": "markdown",
   "id": "39a97684",
   "metadata": {},
   "source": [
    "##### 5.\tWhat is a function signature, and what information does it typically include?\n",
    "<p>A function signature consists of the function prototype. It specifies the general information about a function like the name, scope and parameters </p>"
   ]
  },
  {
   "cell_type": "code",
   "execution_count": 60,
   "id": "b52e525c",
   "metadata": {},
   "outputs": [
    {
     "data": {
      "text/plain": [
       "20"
      ]
     },
     "execution_count": 60,
     "metadata": {},
     "output_type": "execute_result"
    }
   ],
   "source": [
    "#6.\tCreate a Python function that takes two arguments and returns their product.\n",
    "def prod(a,b):\n",
    "    return a*b\n",
    "\n",
    "prod(4,5)"
   ]
  },
  {
   "cell_type": "markdown",
   "id": "910f6fcf",
   "metadata": {},
   "source": [
    "#### Function Parameters and Arguments:"
   ]
  },
  {
   "cell_type": "markdown",
   "id": "37bac500",
   "metadata": {},
   "source": [
    "##### 1.\tExplain the concepts of formal parameters and actual arguments in Python functions.\n",
    "<p>Formal parameters are the placeholders for the values that are passed to the function when it is called. Actual arguments are the values that are actually passed to the function when it is called. </p>"
   ]
  },
  {
   "cell_type": "code",
   "execution_count": 61,
   "id": "f7b1a598",
   "metadata": {},
   "outputs": [],
   "source": [
    "#2.\tWrite a Python program that defines a function with default argument values.\n",
    "\n",
    "def test2(name,msg='Welcome'):\n",
    "    print(msg, name)"
   ]
  },
  {
   "cell_type": "code",
   "execution_count": 62,
   "id": "43b54c1c",
   "metadata": {},
   "outputs": [
    {
     "name": "stdout",
     "output_type": "stream",
     "text": [
      "Welcome Mahabir\n"
     ]
    }
   ],
   "source": [
    "test2('Mahabir')"
   ]
  },
  {
   "cell_type": "markdown",
   "id": "935ad27c",
   "metadata": {},
   "source": [
    "##### 3.\tHow do you use keyword arguments in Python function calls? Provide an example.\n",
    "<p> Keyword arguments (or named arguments) are values that, when passed into a function, are identifiable by specific parameter names. A keyword argument is preceded by a parameter and the assignment operator, = . Keyword arguments can be likened to dictionaries in that they map a value to a keyword."
   ]
  },
  {
   "cell_type": "code",
   "execution_count": 64,
   "id": "61d075b5",
   "metadata": {},
   "outputs": [
    {
     "name": "stdout",
     "output_type": "stream",
     "text": [
      "hello Mahabir your age is 29\n"
     ]
    }
   ],
   "source": [
    "def test3(name,age=29):\n",
    "    print('hello {} your age is {}'.format(name,age))\n",
    "\n",
    "test3('Mahabir')\n",
    "\n",
    "#Here age=29 is a keyword argument\n",
    "\n"
   ]
  },
  {
   "cell_type": "code",
   "execution_count": 66,
   "id": "58884cd3",
   "metadata": {},
   "outputs": [
    {
     "name": "stdout",
     "output_type": "stream",
     "text": [
      "hello Mahabir your age is 30\n"
     ]
    }
   ],
   "source": [
    "test3(name='Mahabir',age=30)\n",
    "\n",
    "#here we have used name and age both as keyword arguments"
   ]
  },
  {
   "cell_type": "code",
   "execution_count": 69,
   "id": "b7bd52f0",
   "metadata": {},
   "outputs": [
    {
     "data": {
      "text/plain": [
       "15"
      ]
     },
     "execution_count": 69,
     "metadata": {},
     "output_type": "execute_result"
    }
   ],
   "source": [
    "#4.\tCreate a Python function that accepts a variable number of arguments and calculates their sum.\n",
    "\n",
    "def sum(*args):\n",
    "    sum=0\n",
    "    for arg in args:\n",
    "        sum=sum+arg\n",
    "    return sum\n",
    "\n",
    "\n",
    "sum(1,2,3,4,5)\n"
   ]
  },
  {
   "cell_type": "markdown",
   "id": "82e0b66f",
   "metadata": {},
   "source": [
    "##### 5.\tWhat is the purpose of the `*args` and `**kwargs` syntax in function parameter lists?\n",
    "<p> The *args and **kwargs syntax in function parameter lists allows a function to accept a variable number of arguments.The *args parameter collects all of the positional arguments that are passed to the function and stores them in a tuple. The **kwargs parameter collects all of the keyword arguments that are passed to the function and stores them in a dictionary. </p>"
   ]
  },
  {
   "cell_type": "code",
   "execution_count": 71,
   "id": "d3433619",
   "metadata": {},
   "outputs": [
    {
     "name": "stdout",
     "output_type": "stream",
     "text": [
      "(1, 2, 3)\n",
      "{'name': 'Alice', 'age': 25}\n"
     ]
    }
   ],
   "source": [
    "def my_function(*args, **kwargs):\n",
    "    print(args)\n",
    "    print(kwargs)\n",
    "\n",
    "my_function(1, 2, 3, name=\"Alice\", age=25)"
   ]
  },
  {
   "cell_type": "markdown",
   "id": "77cb7705",
   "metadata": {},
   "source": [
    "#### Return Values and Scoping:"
   ]
  },
  {
   "cell_type": "markdown",
   "id": "bc058607",
   "metadata": {},
   "source": [
    "##### 1.\tDescribe the role of the `return` statement in Python functions and provide examples.\n",
    "<p> The return statement in Python functions is used to exit the function and return a value to the caller. The statements after the return statement are not executed. If the return statement is without any expression, then the special value None is returned.</p>"
   ]
  },
  {
   "cell_type": "code",
   "execution_count": 77,
   "id": "a5ce7ddc",
   "metadata": {},
   "outputs": [],
   "source": [
    "def add_two_numbers(a, b):\n",
    "  \"\"\"Returns the sum of two numbers.\"\"\"\n",
    "  return a + b\n",
    "\n",
    "\n",
    "\n",
    "def greet_user(name):\n",
    "  \"\"\"Returns a greeting for the given user.\"\"\"\n",
    "  return f\"Hello, {name}!\"\n",
    "\n",
    "\n",
    "\n",
    "def is_even(number):\n",
    "  \"\"\"Returns True if the given number is even, False otherwise.\"\"\"\n",
    "  return number % 2 == 0\n",
    "\n"
   ]
  },
  {
   "cell_type": "code",
   "execution_count": 74,
   "id": "723f6aa1",
   "metadata": {},
   "outputs": [
    {
     "data": {
      "text/plain": [
       "5"
      ]
     },
     "execution_count": 74,
     "metadata": {},
     "output_type": "execute_result"
    }
   ],
   "source": [
    "add_two_numbers(2,3)"
   ]
  },
  {
   "cell_type": "code",
   "execution_count": 75,
   "id": "572360e6",
   "metadata": {},
   "outputs": [
    {
     "data": {
      "text/plain": [
       "'Hello, Mahabir!'"
      ]
     },
     "execution_count": 75,
     "metadata": {},
     "output_type": "execute_result"
    }
   ],
   "source": [
    "greet_user('Mahabir')"
   ]
  },
  {
   "cell_type": "code",
   "execution_count": 76,
   "id": "f467420d",
   "metadata": {},
   "outputs": [
    {
     "data": {
      "text/plain": [
       "False"
      ]
     },
     "execution_count": 76,
     "metadata": {},
     "output_type": "execute_result"
    }
   ],
   "source": [
    "is_even(3)"
   ]
  },
  {
   "cell_type": "markdown",
   "id": "a718ea18",
   "metadata": {},
   "source": [
    "##### 2.\tExplain the concept of variable scope in Python, including local and global variables.\n",
    "<p> In Python, the scope of a variable defines the region of the program where the variable is accessible. Variables can have either local or global scope.\n",
    "Local variables are declared inside a function and can only be accessed within that function. Global variables are declared outside of any function and can be accessed from anywhere in the program</p>"
   ]
  },
  {
   "cell_type": "code",
   "execution_count": 79,
   "id": "7b29af87",
   "metadata": {},
   "outputs": [
    {
     "name": "stdout",
     "output_type": "stream",
     "text": [
      "1\n"
     ]
    }
   ],
   "source": [
    "#3.\tWrite a Python program that demonstrates the use of global variables within functions.\n",
    "\n",
    "# Define a global variable\n",
    "count = 0\n",
    "\n",
    "# Define a function that increments the global variable\n",
    "def increment_count():\n",
    "    global count\n",
    "    count += 1\n",
    "\n",
    "# Define a function that prints the global variable\n",
    "def print_count():\n",
    "    global count\n",
    "    print(count)\n",
    "\n",
    "# Call the increment_count() function\n",
    "increment_count()\n",
    "\n",
    "# Call the print_count() function\n",
    "print_count()\n",
    "\n",
    "# Output: 1"
   ]
  },
  {
   "cell_type": "code",
   "execution_count": 85,
   "id": "0c956a8f",
   "metadata": {},
   "outputs": [],
   "source": [
    "#4.\tCreate a Python function that calculates the factorial of a number and returns it\n",
    "\n",
    "def fact(n):\n",
    "    fact=1\n",
    "    for i in range(1,n+1):\n",
    "        fact=fact*i\n",
    "    return fact"
   ]
  },
  {
   "cell_type": "code",
   "execution_count": 86,
   "id": "345183b8",
   "metadata": {},
   "outputs": [
    {
     "data": {
      "text/plain": [
       "120"
      ]
     },
     "execution_count": 86,
     "metadata": {},
     "output_type": "execute_result"
    }
   ],
   "source": [
    "fact(5)"
   ]
  },
  {
   "cell_type": "markdown",
   "id": "8967e3c7",
   "metadata": {},
   "source": [
    "##### 5.\tHow can you access variables defined outside a function from within the function?\n",
    "<p> To acess variables defined outside a function from within a function we need to use 'global' keyword with the varibale name </p>"
   ]
  },
  {
   "cell_type": "code",
   "execution_count": 89,
   "id": "12ab3a95",
   "metadata": {},
   "outputs": [
    {
     "name": "stdout",
     "output_type": "stream",
     "text": [
      "Mahabir Welcome to the session \n"
     ]
    }
   ],
   "source": [
    "name ='Mahabir'\n",
    "\n",
    "def test4():\n",
    "    global name\n",
    "    print('{} Welcome to the session '.format(name))\n",
    "    \n",
    "test4()"
   ]
  },
  {
   "cell_type": "markdown",
   "id": "249af867",
   "metadata": {},
   "source": [
    "#### Lambda Functions and Higher-Order Functions:"
   ]
  },
  {
   "cell_type": "markdown",
   "id": "1c0ffdca",
   "metadata": {},
   "source": [
    "##### 1.\tWhat are lambda functions in Python, and when are they typically used?\n",
    "\n",
    "<p> Lambda functions in python are anonymous functions. They are used when we want to do some basic computations without having to create a full function </p>"
   ]
  },
  {
   "cell_type": "code",
   "execution_count": 95,
   "id": "c5daf02e",
   "metadata": {},
   "outputs": [
    {
     "name": "stdout",
     "output_type": "stream",
     "text": [
      "[('Earth', 3), ('Jupiter', 5), ('Mercury', 1), ('Mars', 4), ('Neptune', 8), ('Saturn', 6), ('Uranus', 7), ('Venus', 2)]\n"
     ]
    },
    {
     "data": {
      "text/plain": [
       "[('Neptune', 8),\n",
       " ('Uranus', 7),\n",
       " ('Saturn', 6),\n",
       " ('Jupiter', 5),\n",
       " ('Mars', 4),\n",
       " ('Earth', 3),\n",
       " ('Venus', 2),\n",
       " ('Mercury', 1)]"
      ]
     },
     "execution_count": 95,
     "metadata": {},
     "output_type": "execute_result"
    }
   ],
   "source": [
    "#2.\tWrite a Python program that uses lambda functions to sort a list of tuples based on the second element.\n",
    "\n",
    "planets = [(\"Earth\", 3),(\"Jupiter\",5),(\"Mercury\",1), (\"Mars\",4), (\"Neptune\",8), (\"Saturn\", 6), (\"Uranus\",7), (\"Venus\",2)]\n",
    "print(planets)\n",
    "\n",
    "sorted(planets,key=lambda x:x[1],reverse=True)"
   ]
  },
  {
   "cell_type": "markdown",
   "id": "50d5f149",
   "metadata": {},
   "source": [
    "##### 3.\tExplain the concept of higher-order functions in Python, and provide an example\n",
    "\n",
    "<p>Higher-order functions are functions that take a function as a parameter and/or return a function as an output. A few useful higher-order functions are map() , filter() , and reduce() . map() and filter() are built-in functions, whereas reduce() is contained in functools() module </p>"
   ]
  },
  {
   "cell_type": "code",
   "execution_count": 100,
   "id": "adae62e7",
   "metadata": {},
   "outputs": [],
   "source": [
    "#4.\tCreate a Python function that takes a list of numbers and a function as arguments, applying the function to each element in the list.\n",
    "l=[1,2,3,4]\n",
    "\n",
    "def mult(a):\n",
    "    return a*2\n",
    "\n",
    "#list(map(mult,l))\n",
    "  \n",
    "    \n",
    "    \n",
    "def map1(func,l):\n",
    "    l1=[]\n",
    "    for i in l:\n",
    "        l1.append(func(i))\n",
    "    return l1\n",
    "\n",
    "  "
   ]
  },
  {
   "cell_type": "code",
   "execution_count": 101,
   "id": "5be80924",
   "metadata": {},
   "outputs": [
    {
     "data": {
      "text/plain": [
       "[2, 4, 6, 8]"
      ]
     },
     "execution_count": 101,
     "metadata": {},
     "output_type": "execute_result"
    }
   ],
   "source": [
    "map1(mult,l)"
   ]
  },
  {
   "cell_type": "markdown",
   "id": "f3a5dc74",
   "metadata": {},
   "source": [
    "#### Built-in Functions"
   ]
  },
  {
   "cell_type": "markdown",
   "id": "424fab51",
   "metadata": {},
   "source": [
    "##### 1.\tDescribe the role of built-in functions like `len()`, `max()`, and `min()` in Python.\n",
    "\n",
    "<p> The len() function is used to return an integer value which indicates the number of items in an object.\n",
    "    max() function returns the largest item in an iterable or the largest of two or more arguments.\n",
    "    min() function returns the smallest item in an iterable or the smallest of two or more arguments </p>"
   ]
  },
  {
   "cell_type": "code",
   "execution_count": 1,
   "id": "5b25a80a",
   "metadata": {},
   "outputs": [
    {
     "data": {
      "text/plain": [
       "[2, 4, 6, 8, 10]"
      ]
     },
     "execution_count": 1,
     "metadata": {},
     "output_type": "execute_result"
    }
   ],
   "source": [
    "#2.\tWrite a Python program that uses the `map()` function to apply a function to each element of a list\n",
    "\n",
    "l=[1,2,3,4,5]\n",
    "\n",
    "list(map(lambda x:x*2,l))"
   ]
  },
  {
   "cell_type": "markdown",
   "id": "da47951c",
   "metadata": {},
   "source": [
    "##### 3.\tHow does the `filter()` function work in Python, and when would you use it?\n",
    "<p>\n",
    "The filter() function in Python is a built-in function that takes an iterable (such as a list, tuple, or set) and a function as arguments and returns a new iterable containing the elements of the original iterable for which the function returns True.</p>\n"
   ]
  },
  {
   "cell_type": "code",
   "execution_count": 5,
   "id": "b2ed18f2",
   "metadata": {},
   "outputs": [
    {
     "data": {
      "text/plain": [
       "120"
      ]
     },
     "execution_count": 5,
     "metadata": {},
     "output_type": "execute_result"
    }
   ],
   "source": [
    "#4.\tCreate a Python program that uses the `reduce()` function to find the product of all elements in a list.\n",
    "\n",
    "l=[1,2,3,4,5]\n",
    "\n",
    "reduce(lambda x,y:x*y,l)"
   ]
  },
  {
   "cell_type": "markdown",
   "id": "494bd97d",
   "metadata": {},
   "source": [
    "#### Function Documentation and Best Practices:"
   ]
  },
  {
   "cell_type": "markdown",
   "id": "fa5e0115",
   "metadata": {},
   "source": [
    "##### 1.\tExplain the purpose of docstrings in Python functions and how to write them.\n",
    "<p> A Python docstring is a string used to document a Python module, class, function or method, so programmers can understand what it does without having to read the details of the implementation.</p>"
   ]
  },
  {
   "cell_type": "code",
   "execution_count": 7,
   "id": "23d5e524",
   "metadata": {},
   "outputs": [],
   "source": [
    "def add(num1, num2):\n",
    "    \"\"\"\n",
    "    Add up two integer numbers.\n",
    "\n",
    "    This function simply wraps the ``+`` operator, and does not\n",
    "    do anything interesting, except for illustrating what\n",
    "    the docstring of a very simple function looks like.\n",
    "\n",
    "    Parameters\n",
    "    ----------\n",
    "    num1 : int\n",
    "        First number to add.\n",
    "    num2 : int\n",
    "        Second number to add.\n",
    "\n",
    "    Returns\n",
    "    -------\n",
    "    int\n",
    "        The sum of ``num1`` and ``num2``.\n",
    "\n",
    "    See Also\n",
    "    --------\n",
    "    subtract : Subtract one integer from another.\n",
    "\n",
    "    Examples\n",
    "    --------\n",
    "    >>> add(2, 2)\n",
    "    4\n",
    "    >>> add(25, 0)\n",
    "    25\n",
    "    >>> add(10, -10)\n",
    "    0\n",
    "    \"\"\"\n",
    "    return num1 + num2"
   ]
  },
  {
   "cell_type": "markdown",
   "id": "45aaf098",
   "metadata": {},
   "source": [
    "##### 2.\tDescribe some best practices for naming functions and variables in Python, including naming conventions and guidelines.\n",
    "##### Use descriptive and meaningful names.<br>\n",
    "Variable names should be descriptive and meaningful. They should not be too short or too long, and they should be easy to read and understand. Function names should also be descriptive and meaningful, and they should accurately describe what the function does.<br>\n",
    "##### Follow a consistent naming convention.<br>\n",
    "There are a few different naming conventions that can be used for Python variables and functions. One common convention is to use lowercase letters for variable names and function names, and to separate words with underscores. Another common convention is to use PascalCase for class names and UPPER_CASE_WITH_UNDERSCORES for constants. <br>\n",
    "##### Avoid reserved keywords. <br>\n",
    "There are a number of keywords in Python that have special meaning. These keywords should not be used as variable names or function names.<br>\n",
    "##### Don't use abbreviations. <br>\n",
    "Abbreviations can be confusing and make your code difficult to read. If you need to use an abbreviation, be sure to document it so that other developers can understand what it means. <br>\n",
    "##### Be mindful of variable scope.<br>\n",
    "Variables have a scope, which determines where they can be accessed in your code. Be sure to declare variables in the scope where they will be used, and avoid using variables outside of their scope."
   ]
  },
  {
   "cell_type": "code",
   "execution_count": null,
   "id": "bf1dc149",
   "metadata": {},
   "outputs": [],
   "source": []
  }
 ],
 "metadata": {
  "kernelspec": {
   "display_name": "Python 3 (ipykernel)",
   "language": "python",
   "name": "python3"
  },
  "language_info": {
   "codemirror_mode": {
    "name": "ipython",
    "version": 3
   },
   "file_extension": ".py",
   "mimetype": "text/x-python",
   "name": "python",
   "nbconvert_exporter": "python",
   "pygments_lexer": "ipython3",
   "version": "3.8.3"
  }
 },
 "nbformat": 4,
 "nbformat_minor": 5
}
