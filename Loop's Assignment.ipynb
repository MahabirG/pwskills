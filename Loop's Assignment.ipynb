{
 "cells": [
  {
   "cell_type": "markdown",
   "id": "7fdea7f5",
   "metadata": {},
   "source": [
    "1. Write a Python program to print the numbers from 1 to 10 using a `for` loop.\n"
   ]
  },
  {
   "cell_type": "code",
   "execution_count": 1,
   "id": "f3f7d8b4",
   "metadata": {},
   "outputs": [
    {
     "name": "stdout",
     "output_type": "stream",
     "text": [
      "1\n",
      "2\n",
      "3\n",
      "4\n",
      "5\n",
      "6\n",
      "7\n",
      "8\n",
      "9\n",
      "10\n"
     ]
    }
   ],
   "source": [
    "for i in range(1,11):\n",
    "    print(i)"
   ]
  },
  {
   "cell_type": "markdown",
   "id": "b65fcba1",
   "metadata": {},
   "source": [
    "2. Create a program that calculates the sum of all numbers in a list using a `for` loop.\n"
   ]
  },
  {
   "cell_type": "code",
   "execution_count": 2,
   "id": "9f29ab02",
   "metadata": {},
   "outputs": [
    {
     "name": "stdout",
     "output_type": "stream",
     "text": [
      "Sum of all elements of the list is 36\n"
     ]
    }
   ],
   "source": [
    "l=[1,2,3,4,5,6,7,8]\n",
    "sum =0\n",
    "for i in l:\n",
    "    sum = sum+i\n",
    "    \n",
    "print('Sum of all elements of the list is',sum)"
   ]
  },
  {
   "cell_type": "markdown",
   "id": "a15e5b90",
   "metadata": {},
   "source": [
    "Write a program to print the characters of a string in reverse order using a `for` loop.\n"
   ]
  },
  {
   "cell_type": "code",
   "execution_count": 30,
   "id": "fb8ccd47",
   "metadata": {},
   "outputs": [
    {
     "name": "stdout",
     "output_type": "stream",
     "text": [
      "Enter a string\n",
      "hello\n",
      "olleh"
     ]
    }
   ],
   "source": [
    "str=input('Enter a string\\n')\n",
    "\n",
    "for s in str[::-1]:\n",
    "    print(s,end='')\n",
    "    \n",
    "\n"
   ]
  },
  {
   "cell_type": "markdown",
   "id": "2634ff85",
   "metadata": {},
   "source": [
    "4. Develop a program that finds the factorial of a given number using a `for` loop.\n"
   ]
  },
  {
   "cell_type": "code",
   "execution_count": 14,
   "id": "b4829e29",
   "metadata": {},
   "outputs": [
    {
     "name": "stdout",
     "output_type": "stream",
     "text": [
      "Enter a number to calculate factorial\n",
      "5\n",
      "Factorial of 5 is 120\n"
     ]
    }
   ],
   "source": [
    "num = int(input(\"Enter a number to calculate factorial\\n\"))\n",
    "fact =1\n",
    "for i in range(1,num+1):\n",
    "    fact = fact*i\n",
    "print('Factorial of {} is {}'.format(num,fact))"
   ]
  },
  {
   "cell_type": "markdown",
   "id": "b73d8d43",
   "metadata": {},
   "source": [
    ". Create a program to print the multiplication table of a given number using a `for` loop.\n"
   ]
  },
  {
   "cell_type": "code",
   "execution_count": 15,
   "id": "588afb7f",
   "metadata": {},
   "outputs": [
    {
     "name": "stdout",
     "output_type": "stream",
     "text": [
      "Enter a number\n",
      "7\n",
      "1 * 7 = 7\n",
      "2 * 7 = 14\n",
      "3 * 7 = 21\n",
      "4 * 7 = 28\n",
      "5 * 7 = 35\n",
      "6 * 7 = 42\n",
      "7 * 7 = 49\n",
      "8 * 7 = 56\n",
      "9 * 7 = 63\n",
      "10 * 7 = 70\n"
     ]
    }
   ],
   "source": [
    "num = int(input(\"Enter a number\\n\"))\n",
    "\n",
    "for i in range(1,11):\n",
    "    print(i,'*',num,'=',i*num)"
   ]
  },
  {
   "cell_type": "markdown",
   "id": "78ae3922",
   "metadata": {},
   "source": [
    "6. Write a program that counts the number of even and odd numbers in a list using a `for` loop.\n"
   ]
  },
  {
   "cell_type": "code",
   "execution_count": 18,
   "id": "081013b2",
   "metadata": {},
   "outputs": [
    {
     "name": "stdout",
     "output_type": "stream",
     "text": [
      "The list contains 4 even numbers and 6 odd numbers\n"
     ]
    }
   ],
   "source": [
    "l = [1,2,3,4,5,6,67,7,9,10]\n",
    "\n",
    "even=0\n",
    "odd=0\n",
    "for i in l:\n",
    "    if i%2==0:\n",
    "        even=even+1\n",
    "    else:\n",
    "        odd=odd+1\n",
    "    \n",
    "print('The list contains {} even numbers and {} odd numbers'.format(even,odd))\n",
    "    "
   ]
  },
  {
   "cell_type": "markdown",
   "id": "526abc1b",
   "metadata": {},
   "source": [
    "Develop a program that prints the squares of numbers from 1 to 5 using a `for` loop.\n"
   ]
  },
  {
   "cell_type": "code",
   "execution_count": 20,
   "id": "02148762",
   "metadata": {},
   "outputs": [
    {
     "name": "stdout",
     "output_type": "stream",
     "text": [
      "Square of 1 is 1\n",
      "Square of 2 is 4\n",
      "Square of 3 is 9\n",
      "Square of 4 is 16\n",
      "Square of 5 is 25\n"
     ]
    }
   ],
   "source": [
    "for i in range(1,6):\n",
    "    print('Square of {} is {}'.format(i,i**2))"
   ]
  },
  {
   "cell_type": "markdown",
   "id": "55d9aea9",
   "metadata": {},
   "source": [
    "Create a program to find the length of a string without using the `len()` function.\n"
   ]
  },
  {
   "cell_type": "code",
   "execution_count": 23,
   "id": "a331b7f9",
   "metadata": {},
   "outputs": [
    {
     "name": "stdout",
     "output_type": "stream",
     "text": [
      "Enter a string\n",
      "Welcome to India\n",
      "The length of the given string is  16\n"
     ]
    }
   ],
   "source": [
    "str =input('Enter a string\\n')\n",
    "\n",
    "count =0\n",
    "for s in str:\n",
    "    count = count+1\n",
    "    \n",
    "print('The length of the given string is ',count)"
   ]
  },
  {
   "cell_type": "markdown",
   "id": "9ad13d19",
   "metadata": {},
   "source": [
    "Write a program that calculates the average of a list of numbers using a `for` loop.\n"
   ]
  },
  {
   "cell_type": "code",
   "execution_count": 27,
   "id": "561899e1",
   "metadata": {},
   "outputs": [
    {
     "name": "stdout",
     "output_type": "stream",
     "text": [
      "The Average of the list is  11.4\n"
     ]
    }
   ],
   "source": [
    "l = [1,2,3,4,5,6,67,7,9,10]\n",
    "\n",
    "sum=0\n",
    "count=0\n",
    "\n",
    "for i in l:\n",
    "    sum=sum+i\n",
    "    count = count+1\n",
    "print('The Average of the list is ',sum/count)"
   ]
  },
  {
   "cell_type": "markdown",
   "id": "1e8b287d",
   "metadata": {},
   "source": [
    "Develop a program that prints the first `n` Fibonacci numbers using a `for` loop.\n"
   ]
  },
  {
   "cell_type": "code",
   "execution_count": 29,
   "id": "a023a0ca",
   "metadata": {},
   "outputs": [
    {
     "name": "stdout",
     "output_type": "stream",
     "text": [
      "Enter a number \n",
      "5\n",
      "0 1 1 2 3 5 8 "
     ]
    }
   ],
   "source": [
    "num =int(input(\"Enter a number \\n\"))\n",
    "first =0\n",
    "second =1\n",
    "print(first,end=\" \")\n",
    "print(second,end=\" \")\n",
    "for i in range(num):\n",
    "    third = first+second\n",
    "    print(third,end=\" \")\n",
    "    first,second=second,third\n",
    "    "
   ]
  },
  {
   "cell_type": "markdown",
   "id": "a7e5422e",
   "metadata": {},
   "source": [
    "11. Write a program to check if a given list contains any duplicates using a `for` loop.\n"
   ]
  },
  {
   "cell_type": "code",
   "execution_count": 9,
   "id": "b48b4e9c",
   "metadata": {},
   "outputs": [],
   "source": [
    "l =[1,2,3,4,54,5,6]\n",
    "\n",
    "for i in range(len(l)):\n",
    "    if l[i] in l[i+1:]:\n",
    "        print(l[i],'is duplicate')\n",
    "        break"
   ]
  },
  {
   "cell_type": "markdown",
   "id": "716bf488",
   "metadata": {},
   "source": [
    "Create a program that prints the prime numbers in a given range using a `for` loop.\n"
   ]
  },
  {
   "cell_type": "code",
   "execution_count": 3,
   "id": "92b63e78",
   "metadata": {},
   "outputs": [
    {
     "name": "stdout",
     "output_type": "stream",
     "text": [
      "Enter a number\n",
      "10\n",
      "2\n",
      "3\n",
      "5\n",
      "7\n"
     ]
    }
   ],
   "source": [
    "num = int(input('Enter a number\\n'))\n",
    "\n",
    "for i in range(1,num+1):\n",
    "    count=0\n",
    "    for j in range(1,i+1):\n",
    "        if i%j==0:\n",
    "            count=count+1\n",
    "    if count ==2:\n",
    "        print(i)"
   ]
  },
  {
   "cell_type": "markdown",
   "id": "15e3e218",
   "metadata": {},
   "source": [
    "Develop a program that counts the number of vowels in a string using a `for` loop.\n"
   ]
  },
  {
   "cell_type": "code",
   "execution_count": 19,
   "id": "b2abf5e7",
   "metadata": {},
   "outputs": [
    {
     "name": "stdout",
     "output_type": "stream",
     "text": [
      "Enter a string\n",
      "bacnqofhiqevnamlppoqwhfjabc\n",
      "7\n"
     ]
    }
   ],
   "source": [
    "vow =['a','e','i','o','u']\n",
    "\n",
    "str = input(\"Enter a string\\n\")\n",
    "count =0\n",
    "for i in str:\n",
    "    if i in vow:\n",
    "        count=count+1\n",
    "        \n",
    "print(count)"
   ]
  },
  {
   "cell_type": "markdown",
   "id": "f4fe2ed4",
   "metadata": {},
   "source": [
    "Write a program to find the maximum element in a 2D list using a nested `for` loop.\n"
   ]
  },
  {
   "cell_type": "code",
   "execution_count": 32,
   "id": "1714c165",
   "metadata": {},
   "outputs": [
    {
     "name": "stdout",
     "output_type": "stream",
     "text": [
      "60\n"
     ]
    }
   ],
   "source": [
    "l =[1,2,3,[1,1,2,3,4,5,60],[2,3,4,5]]\n",
    "\n",
    "max=0\n",
    "for i in l:\n",
    "    if type(i)==list:\n",
    "        for j in i:\n",
    "            if j>max:\n",
    "                max=j\n",
    "print(max)"
   ]
  },
  {
   "cell_type": "markdown",
   "id": "4958a963",
   "metadata": {},
   "source": [
    "15. Create a program that removes all occurrences of a specific element from a list using a `for` loop.\n"
   ]
  },
  {
   "cell_type": "code",
   "execution_count": 38,
   "id": "155f3219",
   "metadata": {},
   "outputs": [
    {
     "name": "stdout",
     "output_type": "stream",
     "text": [
      "Enter the number to be deleted \n",
      "4\n",
      "[1, 2, 3, 5, 6, 2, 3, 2, 3, 5]\n"
     ]
    }
   ],
   "source": [
    "l1=[1,2,3,4,5,6,2,3,4,2,3,4,5,4]\n",
    "\n",
    "num=int(input('Enter the number to be deleted \\n'))\n",
    "cnt=l1.count(num)\n",
    "\n",
    "for i in range(cnt):\n",
    "    l1.remove(num)\n",
    "\n",
    "print(l1)"
   ]
  },
  {
   "cell_type": "markdown",
   "id": "052e423f",
   "metadata": {},
   "source": [
    "Develop a program that generates a multiplication table for numbers from 1 to 5 using a nested `for` loop.\n"
   ]
  },
  {
   "cell_type": "code",
   "execution_count": 41,
   "id": "bca9ad83",
   "metadata": {},
   "outputs": [
    {
     "name": "stdout",
     "output_type": "stream",
     "text": [
      "1 * 1 = 1\n",
      "1 * 2 = 2\n",
      "1 * 3 = 3\n",
      "1 * 4 = 4\n",
      "1 * 5 = 5\n",
      "1 * 6 = 6\n",
      "1 * 7 = 7\n",
      "1 * 8 = 8\n",
      "1 * 9 = 9\n",
      "1 * 10 = 10\n",
      "\n",
      "\n",
      "2 * 1 = 2\n",
      "2 * 2 = 4\n",
      "2 * 3 = 6\n",
      "2 * 4 = 8\n",
      "2 * 5 = 10\n",
      "2 * 6 = 12\n",
      "2 * 7 = 14\n",
      "2 * 8 = 16\n",
      "2 * 9 = 18\n",
      "2 * 10 = 20\n",
      "\n",
      "\n",
      "3 * 1 = 3\n",
      "3 * 2 = 6\n",
      "3 * 3 = 9\n",
      "3 * 4 = 12\n",
      "3 * 5 = 15\n",
      "3 * 6 = 18\n",
      "3 * 7 = 21\n",
      "3 * 8 = 24\n",
      "3 * 9 = 27\n",
      "3 * 10 = 30\n",
      "\n",
      "\n",
      "4 * 1 = 4\n",
      "4 * 2 = 8\n",
      "4 * 3 = 12\n",
      "4 * 4 = 16\n",
      "4 * 5 = 20\n",
      "4 * 6 = 24\n",
      "4 * 7 = 28\n",
      "4 * 8 = 32\n",
      "4 * 9 = 36\n",
      "4 * 10 = 40\n",
      "\n",
      "\n",
      "5 * 1 = 5\n",
      "5 * 2 = 10\n",
      "5 * 3 = 15\n",
      "5 * 4 = 20\n",
      "5 * 5 = 25\n",
      "5 * 6 = 30\n",
      "5 * 7 = 35\n",
      "5 * 8 = 40\n",
      "5 * 9 = 45\n",
      "5 * 10 = 50\n",
      "\n",
      "\n"
     ]
    }
   ],
   "source": [
    "for i in range(1,6):\n",
    "    for j in range(1,11):\n",
    "        print(i,'*',j,'=',i*j)\n",
    "    print('\\n')"
   ]
  },
  {
   "cell_type": "markdown",
   "id": "4761aa47",
   "metadata": {},
   "source": [
    "7. Write a program that converts a list of Fahrenheit temperatures to Celsius using a `for` loop.\n"
   ]
  },
  {
   "cell_type": "code",
   "execution_count": 44,
   "id": "0219aa3a",
   "metadata": {},
   "outputs": [
    {
     "data": {
      "text/plain": [
       "[12.0, 24.0, 34.0, 45.0, 56.00000000000001, 60.0]"
      ]
     },
     "execution_count": 44,
     "metadata": {},
     "output_type": "execute_result"
    }
   ],
   "source": [
    "fahr=[53.6, 75.2, 93.2, 113.0, 132.8, 140.0]\n",
    "cel=[]\n",
    "for temp in fahr:\n",
    "    b = (temp-32)*5/9\n",
    "    cel.append(b)\n",
    "cel"
   ]
  },
  {
   "cell_type": "markdown",
   "id": "b8f29721",
   "metadata": {},
   "source": [
    "Create a program to print the common elements from two lists using a `for` loop.\n"
   ]
  },
  {
   "cell_type": "code",
   "execution_count": 45,
   "id": "2924eee3",
   "metadata": {},
   "outputs": [
    {
     "name": "stdout",
     "output_type": "stream",
     "text": [
      "1\n",
      "2\n",
      "6\n",
      "8\n",
      "9\n"
     ]
    }
   ],
   "source": [
    "lst=[1,2,3,4,5,6,7,8,9]\n",
    "lst1=[1,2,8,9,10,11,12,13,14,6]\n",
    "\n",
    "for i in lst:\n",
    "    if i in lst1:\n",
    "        print(i)"
   ]
  },
  {
   "cell_type": "markdown",
   "id": "f8a8a4df",
   "metadata": {},
   "source": [
    "19. Develop a program that prints the pattern of right-angled triangles using a `for` loop. Use ‘*’ to draw the\n",
    "pattern\n"
   ]
  },
  {
   "cell_type": "code",
   "execution_count": 50,
   "id": "1b2094a3",
   "metadata": {},
   "outputs": [
    {
     "name": "stdout",
     "output_type": "stream",
     "text": [
      "Enter the number of rows for triangle \n",
      "7\n",
      "* \n",
      "* * \n",
      "* * * \n",
      "* * * * \n",
      "* * * * * \n",
      "* * * * * * \n",
      "* * * * * * * \n"
     ]
    }
   ],
   "source": [
    "rows =int(input('Enter the number of rows for triangle \\n'))\n",
    "\n",
    "for i in range(1,rows+1):\n",
    "    for j in range(1,i+1):\n",
    "        print('*',end=' ')\n",
    "    print()"
   ]
  },
  {
   "cell_type": "markdown",
   "id": "56199a09",
   "metadata": {},
   "source": [
    "Write a program to find the greatest common divisor (GCD) of two numbers using a `for` loop.\n",
    "\n"
   ]
  },
  {
   "cell_type": "code",
   "execution_count": 69,
   "id": "1a0db9a0",
   "metadata": {},
   "outputs": [
    {
     "name": "stdout",
     "output_type": "stream",
     "text": [
      "Enter two number\n",
      "12 24\n"
     ]
    },
    {
     "data": {
      "text/plain": [
       "12"
      ]
     },
     "execution_count": 69,
     "metadata": {},
     "output_type": "execute_result"
    }
   ],
   "source": [
    "num =input('Enter two number\\n')\n",
    "num1 = int(num.split(sep=' ')[0])\n",
    "num2= int(num.split(sep=' ')[1])\n",
    "temp = min(num1,num2)\n",
    "temp\n",
    "gcd=1\n",
    "for i in range(1,temp+1):\n",
    "    if num1%i==0 and num2%i==0:\n",
    "        gcd=i\n",
    "    \n",
    "gcd"
   ]
  },
  {
   "cell_type": "markdown",
   "id": "24197136",
   "metadata": {},
   "source": [
    "21. Create a program that calculates the sum of the digits of numbers in a list using a list comprehension.\n"
   ]
  },
  {
   "cell_type": "code",
   "execution_count": 1,
   "id": "b6aef5fd",
   "metadata": {},
   "outputs": [
    {
     "name": "stdout",
     "output_type": "stream",
     "text": [
      "Number: 123, Sum of Digits: 6\n",
      "Number: 45, Sum of Digits: 9\n",
      "Number: 6789, Sum of Digits: 30\n",
      "Number: 987, Sum of Digits: 24\n"
     ]
    }
   ],
   "source": [
    "numbers = [123, 45, 6789, 987]\n",
    "\n",
    "def digit_sum(number):\n",
    "    return sum(int(digit) for digit in str(abs(number)))\n",
    "\n",
    "sum_of_digits_list = [digit_sum(number) for number in numbers]\n",
    "\n",
    "# Display the original numbers and their corresponding sums of digits\n",
    "for i in range(len(numbers)):\n",
    "    print(f\"Number: {numbers[i]}, Sum of Digits: {sum_of_digits_list[i]}\")"
   ]
  },
  {
   "cell_type": "markdown",
   "id": "2fa5b366",
   "metadata": {},
   "source": [
    "22. Write a program to find the prime factors of a given number using a `for` loop and list comprehension.\n"
   ]
  },
  {
   "cell_type": "code",
   "execution_count": 69,
   "id": "7985fc09",
   "metadata": {},
   "outputs": [],
   "source": [
    "# num = 10\n",
    "\n",
    "# for i in range(1,num+1):\n",
    "#     if num%i==0:\n",
    "#         #print(i)\n",
    "#         count=0\n",
    "#         for j in range(1,i+1):\n",
    "#             if i%j==0:\n",
    "#                 count=count+1\n",
    "#             #print(count)\n",
    "#         if count==2:\n",
    "#             print(i)\n"
   ]
  },
  {
   "cell_type": "code",
   "execution_count": 41,
   "id": "4863c452",
   "metadata": {},
   "outputs": [
    {
     "data": {
      "text/plain": [
       "[2, 3, 4, 5, 7, 11, 13, 17, 19]"
      ]
     },
     "execution_count": 41,
     "metadata": {},
     "output_type": "execute_result"
    }
   ],
   "source": [
    "# [x for x in range(2, 20)\n",
    "#      if all(x % y for y in range(2, x//2))]"
   ]
  },
  {
   "cell_type": "code",
   "execution_count": 44,
   "id": "43892248",
   "metadata": {},
   "outputs": [
    {
     "data": {
      "text/plain": [
       "[2, 17]"
      ]
     },
     "execution_count": 44,
     "metadata": {},
     "output_type": "execute_result"
    }
   ],
   "source": [
    "num=34\n",
    "[x for x in range(2, num+1)\n",
    "     if all(x % y for y in range(2, x//2)) if num%x==0]"
   ]
  },
  {
   "cell_type": "markdown",
   "id": "1e89b27f",
   "metadata": {},
   "source": [
    "23. Develop a program that extracts unique elements from a list and stores them in a new list using a list\n",
    "comprehension.\n"
   ]
  },
  {
   "cell_type": "code",
   "execution_count": 52,
   "id": "5596ef1d",
   "metadata": {},
   "outputs": [
    {
     "data": {
      "text/plain": [
       "[2, 3, 4, 6, 7, 10, 12]"
      ]
     },
     "execution_count": 52,
     "metadata": {},
     "output_type": "execute_result"
    }
   ],
   "source": [
    "l=[1,2,3,4,5,1,6,7,8,8,10,12,5]\n",
    "\n",
    "[x for x in l if l.count(x)==1 ]"
   ]
  },
  {
   "cell_type": "markdown",
   "id": "e64e5786",
   "metadata": {},
   "source": [
    "24. Create a program that generates a list of all palindromic numbers up to a specified limit using a list\n",
    "comprehension.\n"
   ]
  },
  {
   "cell_type": "code",
   "execution_count": 58,
   "id": "266ab999",
   "metadata": {},
   "outputs": [
    {
     "data": {
      "text/plain": [
       "[1, 2, 3, 4, 5, 6, 7, 8, 9, 11, 22, 33, 44, 55, 66, 77, 88, 99]"
      ]
     },
     "execution_count": 58,
     "metadata": {},
     "output_type": "execute_result"
    }
   ],
   "source": [
    "num=100\n",
    "\n",
    "[x for x in range(1,num+1) if str(x)==str(x)[::-1]]"
   ]
  },
  {
   "cell_type": "markdown",
   "id": "5f595590",
   "metadata": {},
   "source": [
    "Write a program to flatten a nested list using list comprehension.\n"
   ]
  },
  {
   "cell_type": "code",
   "execution_count": 1,
   "id": "3f4d7a2e",
   "metadata": {},
   "outputs": [
    {
     "data": {
      "text/plain": [
       "[1, 1, 2, 3, 4, 5, 60, 2, 3, 4, 5]"
      ]
     },
     "execution_count": 1,
     "metadata": {},
     "output_type": "execute_result"
    }
   ],
   "source": [
    "l =[[1,1,2,3,4,5,60],[2,3,4,5]]\n",
    "\n",
    "[y  for x in l  for y in x ]"
   ]
  },
  {
   "cell_type": "code",
   "execution_count": null,
   "id": "c199e16f",
   "metadata": {},
   "outputs": [],
   "source": []
  },
  {
   "cell_type": "markdown",
   "id": "c12202e9",
   "metadata": {},
   "source": [
    "26. Develop a program that computes the sum of even and odd numbers in a list separately using list\n",
    "comprehension.\n"
   ]
  },
  {
   "cell_type": "code",
   "execution_count": 8,
   "id": "3953fe21",
   "metadata": {},
   "outputs": [
    {
     "name": "stdout",
     "output_type": "stream",
     "text": [
      "Even_sum is 30 \n",
      "Odd_sum is 25\n"
     ]
    }
   ],
   "source": [
    "l=[1,2,3,4,5,6,7,8,9,10]\n",
    "\n",
    "print('Even_sum is',sum([x for x in l if x%2==0  ]),'\\nOdd_sum is',sum([y for y in l if y%2==1  ]))"
   ]
  },
  {
   "cell_type": "markdown",
   "id": "33c78dc0",
   "metadata": {},
   "source": [
    "Create a program that generates a list of squares of odd numbers between 1 and 10 using list\n",
    "comprehension.\n"
   ]
  },
  {
   "cell_type": "code",
   "execution_count": 9,
   "id": "14a3551f",
   "metadata": {},
   "outputs": [
    {
     "data": {
      "text/plain": [
       "[1, 9, 25, 49, 81]"
      ]
     },
     "execution_count": 9,
     "metadata": {},
     "output_type": "execute_result"
    }
   ],
   "source": [
    "[x*x for x in range(1,11) if x%2==1]"
   ]
  },
  {
   "cell_type": "markdown",
   "id": "17796e4e",
   "metadata": {},
   "source": [
    "Write a program that combines two lists into a dictionary using list comprehension.\n"
   ]
  },
  {
   "cell_type": "code",
   "execution_count": 19,
   "id": "155a9f7c",
   "metadata": {},
   "outputs": [
    {
     "data": {
      "text/plain": [
       "{'Rash': 1, 'Kil': 4, 'Varsha': 5}"
      ]
     },
     "execution_count": 19,
     "metadata": {},
     "output_type": "execute_result"
    }
   ],
   "source": [
    "keys = [\"Rash\", \"Kil\", \"Varsha\"]\n",
    "values = [1, 4, 5]\n",
    "\n",
    "{keys[i]:values[i] for i in range(len(values))}\n"
   ]
  },
  {
   "cell_type": "code",
   "execution_count": 60,
   "id": "4787260f",
   "metadata": {},
   "outputs": [
    {
     "data": {
      "text/plain": [
       "{'Rash': 1, 'Kil': 4, 'Varsha': 5}"
      ]
     },
     "execution_count": 60,
     "metadata": {},
     "output_type": "execute_result"
    }
   ],
   "source": [
    "dict([(keys[i],values[i]) for i in range(len(values))])"
   ]
  },
  {
   "cell_type": "code",
   "execution_count": 65,
   "id": "0c0aa830",
   "metadata": {},
   "outputs": [],
   "source": [
    "#t=[(keys[i],values[i]) for i in range(len(values))]"
   ]
  },
  {
   "cell_type": "code",
   "execution_count": 66,
   "id": "4c6c6580",
   "metadata": {},
   "outputs": [
    {
     "data": {
      "text/plain": [
       "[('Rash', 1), ('Kil', 4), ('Varsha', 5)]"
      ]
     },
     "execution_count": 66,
     "metadata": {},
     "output_type": "execute_result"
    }
   ],
   "source": [
    "#t"
   ]
  },
  {
   "cell_type": "code",
   "execution_count": null,
   "id": "c7de00ab",
   "metadata": {},
   "outputs": [],
   "source": [
    "### dict(t)"
   ]
  },
  {
   "cell_type": "markdown",
   "id": "d881856a",
   "metadata": {},
   "source": [
    "Develop a program that extracts the vowels from a string and stores them in a list using list comprehension.\n"
   ]
  },
  {
   "cell_type": "code",
   "execution_count": 68,
   "id": "082da687",
   "metadata": {},
   "outputs": [
    {
     "name": "stdout",
     "output_type": "stream",
     "text": [
      "Enter a string\n",
      "acancklwefpownva\n"
     ]
    },
    {
     "data": {
      "text/plain": [
       "['a', 'a', 'e', 'o', 'a']"
      ]
     },
     "execution_count": 68,
     "metadata": {},
     "output_type": "execute_result"
    }
   ],
   "source": [
    "vow=['a','e','i','o','u']\n",
    "\n",
    "str = input('Enter a string\\n')\n",
    "\n",
    "[s for s in str if s in vow]"
   ]
  },
  {
   "cell_type": "markdown",
   "id": "bbe4ec94",
   "metadata": {},
   "source": [
    "Create a program that removes all non-numeric characters from a list of strings using list comprehension.\n"
   ]
  },
  {
   "cell_type": "code",
   "execution_count": 46,
   "id": "2571dfa2",
   "metadata": {},
   "outputs": [
    {
     "data": {
      "text/plain": [
       "['4', '5', '3', '4']"
      ]
     },
     "execution_count": 46,
     "metadata": {},
     "output_type": "execute_result"
    }
   ],
   "source": [
    "list1 = ['4geeks5', '3for', '4geeks']\n",
    "\n",
    "[y for i in list1 for y in i  if y.isdigit()]"
   ]
  },
  {
   "cell_type": "code",
   "execution_count": null,
   "id": "1db09b5e",
   "metadata": {},
   "outputs": [],
   "source": []
  },
  {
   "cell_type": "code",
   "execution_count": null,
   "id": "cec3f2b2",
   "metadata": {},
   "outputs": [],
   "source": []
  },
  {
   "cell_type": "code",
   "execution_count": null,
   "id": "f97cf1a1",
   "metadata": {},
   "outputs": [],
   "source": []
  },
  {
   "cell_type": "code",
   "execution_count": null,
   "id": "729a39c8",
   "metadata": {},
   "outputs": [],
   "source": []
  },
  {
   "cell_type": "markdown",
   "id": "a16ba5de",
   "metadata": {},
   "source": [
    "31. Write a program to generate a list of prime numbers using the Sieve of Eratosthenes algorithm and list\n",
    "comprehension.\n"
   ]
  },
  {
   "cell_type": "code",
   "execution_count": 4,
   "id": "13385f9e",
   "metadata": {},
   "outputs": [
    {
     "name": "stdout",
     "output_type": "stream",
     "text": [
      "Enter a number\n",
      "10\n",
      "2\n",
      "3\n",
      "5\n",
      "7\n"
     ]
    }
   ],
   "source": [
    "num = int(input('Enter a number\\n'))\n",
    "\n",
    "for i in range(1,num+1):\n",
    "    count=0\n",
    "    for j in range(1,i+1):\n",
    "        if i%j==0:\n",
    "            count=count+1\n",
    "    if count ==2:\n",
    "        print(i)"
   ]
  },
  {
   "cell_type": "code",
   "execution_count": 70,
   "id": "ab72a62b",
   "metadata": {},
   "outputs": [
    {
     "name": "stdout",
     "output_type": "stream",
     "text": [
      "4\n",
      "6\n",
      "8\n",
      "10\n",
      "9\n"
     ]
    }
   ],
   "source": [
    "def prime_eratosthenes(n):\n",
    "    prime_list = []  # Create an empty list to store prime numbers\n",
    "    # Iterate through the numbers from 2 to 'n'\n",
    "    for i in range(2, n+1):\n",
    "        if i not in prime_list:\n",
    "            # If 'i' is not in the 'prime_list,' it's a prime number; print it\n",
    "            #print(i)\n",
    "\n",
    "            # Mark all multiples of 'i' as non-prime by adding them to 'prime_list'\n",
    "            for j in range(i*i, n+1, i):\n",
    "                prime_list.append(j)\n",
    "                print(j)\n",
    "\n",
    "# Call the 'prime_eratosthenes' function with 'n' set to 100 to generate prime numbers\n",
    "# The function does not have a return value, so it prints the prime numbers directly\n",
    "prime_eratosthenes(10)"
   ]
  },
  {
   "cell_type": "code",
   "execution_count": 80,
   "id": "224b5771",
   "metadata": {},
   "outputs": [
    {
     "data": {
      "text/plain": [
       "[2, 3, 4, 5, 6, 7, 8, 9, 10]"
      ]
     },
     "execution_count": 80,
     "metadata": {},
     "output_type": "execute_result"
    }
   ],
   "source": [
    "[x for x in range(2,11) if x not in [y for y in range(x*x,11,x)]]"
   ]
  },
  {
   "cell_type": "code",
   "execution_count": null,
   "id": "4a6117e2",
   "metadata": {},
   "outputs": [],
   "source": []
  }
 ],
 "metadata": {
  "kernelspec": {
   "display_name": "Python 3 (ipykernel)",
   "language": "python",
   "name": "python3"
  },
  "language_info": {
   "codemirror_mode": {
    "name": "ipython",
    "version": 3
   },
   "file_extension": ".py",
   "mimetype": "text/x-python",
   "name": "python",
   "nbconvert_exporter": "python",
   "pygments_lexer": "ipython3",
   "version": "3.8.3"
  }
 },
 "nbformat": 4,
 "nbformat_minor": 5
}
