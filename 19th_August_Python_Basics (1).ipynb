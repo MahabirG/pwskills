{
 "cells": [
  {
   "cell_type": "markdown",
   "id": "ca1ad5a0",
   "metadata": {},
   "source": [
    "1 Declare two variables, `x` and `y`, and assign them integer values. Swap the\n",
    "values of these variables without using any temporary variable."
   ]
  },
  {
   "cell_type": "code",
   "execution_count": 1,
   "id": "3d93e241",
   "metadata": {},
   "outputs": [],
   "source": [
    "x=5\n",
    "y=10"
   ]
  },
  {
   "cell_type": "code",
   "execution_count": 2,
   "id": "bafd4e2a",
   "metadata": {},
   "outputs": [],
   "source": [
    "x,y=y,x"
   ]
  },
  {
   "cell_type": "code",
   "execution_count": 3,
   "id": "78d7127d",
   "metadata": {},
   "outputs": [
    {
     "data": {
      "text/plain": [
       "10"
      ]
     },
     "execution_count": 3,
     "metadata": {},
     "output_type": "execute_result"
    }
   ],
   "source": [
    "x"
   ]
  },
  {
   "cell_type": "code",
   "execution_count": 4,
   "id": "9a7406ea",
   "metadata": {},
   "outputs": [
    {
     "data": {
      "text/plain": [
       "5"
      ]
     },
     "execution_count": 4,
     "metadata": {},
     "output_type": "execute_result"
    }
   ],
   "source": [
    "y"
   ]
  },
  {
   "cell_type": "markdown",
   "id": "9beb95ac",
   "metadata": {},
   "source": [
    "2 Create a program that calculates the area of a rectangle. Take the length and\n",
    "width as inputs from the user and store them in variables. Calculate and\n",
    "display the area."
   ]
  },
  {
   "cell_type": "code",
   "execution_count": 7,
   "id": "d23e85c0",
   "metadata": {},
   "outputs": [
    {
     "name": "stdout",
     "output_type": "stream",
     "text": [
      "Enter the length\n",
      "4\n",
      "Enter the breadth\n",
      "5\n",
      "Area of rectangle is 20\n"
     ]
    }
   ],
   "source": [
    "length = int(input('Enter the length\\n'))\n",
    "breadth= int(input('Enter the breadth\\n'))\n",
    "\n",
    "area = length*breadth\n",
    "\n",
    "print('Area of rectangle is',area)"
   ]
  },
  {
   "cell_type": "markdown",
   "id": "f6a322df",
   "metadata": {},
   "source": [
    "3. Write a Python program that converts temperatures from Celsius to\n",
    "Fahrenheit. Take the temperature in Celsius as input, store it in a variable,\n",
    "convert it to Fahrenheit, and display the result."
   ]
  },
  {
   "cell_type": "code",
   "execution_count": 9,
   "id": "b1e4e5d5",
   "metadata": {},
   "outputs": [
    {
     "name": "stdout",
     "output_type": "stream",
     "text": [
      "Enter the temperature\n",
      "37.7\n",
      "The equivalent temperature in Fahrenheit is 99.86\n"
     ]
    }
   ],
   "source": [
    "temp = float(input('Enter the temperature\\n'))\n",
    "fahr= (temp*9/5)+32\n",
    "\n",
    "print('The equivalent temperature in Fahrenheit is', fahr)"
   ]
  },
  {
   "cell_type": "markdown",
   "id": "ec07cde0",
   "metadata": {},
   "source": [
    "Write a Python program that takes a string as input and prints the length of\n",
    "the string."
   ]
  },
  {
   "cell_type": "code",
   "execution_count": 10,
   "id": "6d3721e0",
   "metadata": {},
   "outputs": [
    {
     "name": "stdout",
     "output_type": "stream",
     "text": [
      "Enter a string\n",
      "cajhfiwebdlanvkad\n",
      "Length of the string is  17\n"
     ]
    }
   ],
   "source": [
    "str = input('Enter a string\\n')\n",
    "print('Length of the string is ' ,len(str))"
   ]
  },
  {
   "cell_type": "markdown",
   "id": "c3b1d537",
   "metadata": {},
   "source": [
    "Create a program that takes a sentence from the user and counts the number\n",
    "of vowels (a, e, i, o, u) in the string."
   ]
  },
  {
   "cell_type": "code",
   "execution_count": 12,
   "id": "6434e6c8",
   "metadata": {},
   "outputs": [
    {
     "name": "stdout",
     "output_type": "stream",
     "text": [
      "Enter a string\n",
      "wqfojabclanpqwhficna\n",
      "The number of vowles in the string is 5\n"
     ]
    }
   ],
   "source": [
    "vow =['a','e','i','o','u']\n",
    "\n",
    "str = input(\"Enter a string\\n\")\n",
    "count =0\n",
    "for i in str:\n",
    "    if i in vow:\n",
    "        count=count+1\n",
    "        \n",
    "print('The number of vowles in the string is',count)"
   ]
  },
  {
   "cell_type": "markdown",
   "id": "9afa4ada",
   "metadata": {},
   "source": [
    "Given a string, reverse the order of characters using string slicing and print\n",
    "the reversed string."
   ]
  },
  {
   "cell_type": "code",
   "execution_count": 16,
   "id": "dbd75973",
   "metadata": {},
   "outputs": [
    {
     "name": "stdout",
     "output_type": "stream",
     "text": [
      "Enter a string\n",
      "hello\n",
      "The reversed string is olleh\n"
     ]
    }
   ],
   "source": [
    "str = input(\"Enter a string\\n\")\n",
    "print('The reversed string is',str[::-1])"
   ]
  },
  {
   "cell_type": "markdown",
   "id": "fdb620c6",
   "metadata": {},
   "source": [
    "Write a program that takes a string as input and checks if it is a palindrome\n",
    "(reads the same forwards and backwards)."
   ]
  },
  {
   "cell_type": "code",
   "execution_count": 17,
   "id": "317dbfd2",
   "metadata": {},
   "outputs": [
    {
     "name": "stdout",
     "output_type": "stream",
     "text": [
      "Enter a string\n",
      "MOM\n",
      "The string is pallindrome\n"
     ]
    }
   ],
   "source": [
    "str = input('Enter a string\\n')\n",
    "l=[]\n",
    "\n",
    "l1=l[::-1]\n",
    "\n",
    "if l==l1:\n",
    "    print('The string is pallindrome')\n",
    "else:\n",
    "    print(\"The string not pallindrome\")"
   ]
  },
  {
   "cell_type": "markdown",
   "id": "1d992209",
   "metadata": {},
   "source": [
    "5. Create a program that takes a string as input and removes all the spaces from\n",
    "it. Print the modified string without spaces."
   ]
  },
  {
   "cell_type": "code",
   "execution_count": 24,
   "id": "b149ec09",
   "metadata": {},
   "outputs": [
    {
     "name": "stdout",
     "output_type": "stream",
     "text": [
      "Enter a string\n",
      "Hello world welcome\n",
      "Helloworldwelcome\n"
     ]
    }
   ],
   "source": [
    "str = input('Enter a string\\n')\n",
    "str1 =str.replace(\" \",\"\")\n",
    "print(str1)\n"
   ]
  },
  {
   "cell_type": "code",
   "execution_count": null,
   "id": "deced46e",
   "metadata": {},
   "outputs": [],
   "source": []
  }
 ],
 "metadata": {
  "kernelspec": {
   "display_name": "Python 3 (ipykernel)",
   "language": "python",
   "name": "python3"
  },
  "language_info": {
   "codemirror_mode": {
    "name": "ipython",
    "version": 3
   },
   "file_extension": ".py",
   "mimetype": "text/x-python",
   "name": "python",
   "nbconvert_exporter": "python",
   "pygments_lexer": "ipython3",
   "version": "3.8.3"
  }
 },
 "nbformat": 4,
 "nbformat_minor": 5
}
