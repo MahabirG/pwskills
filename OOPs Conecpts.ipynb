{
 "cells": [
  {
   "cell_type": "markdown",
   "id": "77e6a77d",
   "metadata": {},
   "source": [
    "#### What is constructor in python? Expalin its purpose and usage\n",
    "<p>Constructor is a special method in a class that is called when an object of the class is created. Constructor is used to initialize\n",
    "value to the data members.\n",
    "\n",
    "In Python, constructors are defined using the __init__() method. The __init__() method can take any number of arguments, but it must always return None.\n",
    "\n",
    "Usage of constructors:    \n",
    "1.They ensure that objects are always created in a valid state.</br>\n",
    "2.They can be used to initialize data members to their initial values, which can save time and effort.</br>\n",
    "3.They can be used to perform other tasks, such as opening files or connecting to databases.</br> </p>"
   ]
  },
  {
   "cell_type": "markdown",
   "id": "1f658174",
   "metadata": {},
   "source": [
    "#### Differentitate between parametrized and parameterless constructor?\n",
    "\n",
    "<p>Paramterized Constructos can take any number of arguments while parameterless constructor has 0 arguments. \n",
    "While object creation user has to pass values for all the arguments present in the paramerized constructor otherwise it will give an error\n",
    "but we do not need to pass any argument during object creation for parameterless consstructor.</p>"
   ]
  },
  {
   "cell_type": "markdown",
   "id": "0b35008a",
   "metadata": {},
   "source": [
    "#### How do you define a constructor in python?\n",
    "\n"
   ]
  },
  {
   "cell_type": "code",
   "execution_count": 1,
   "id": "7589302d",
   "metadata": {},
   "outputs": [],
   "source": [
    "## paramterless constructor\n",
    "class student:\n",
    "    def __init__(self):\n",
    "        pass"
   ]
  },
  {
   "cell_type": "code",
   "execution_count": 2,
   "id": "884e871a",
   "metadata": {},
   "outputs": [],
   "source": [
    "## Parameterized Constructor\n",
    "class student:\n",
    "    def __init__(self,name,roll):\n",
    "        self.student_name=name\n",
    "        self.student_roll = roll"
   ]
  },
  {
   "cell_type": "markdown",
   "id": "42c475af",
   "metadata": {},
   "source": [
    "#### Explain the __init__ method in python and its role in constructor?\n",
    "\n",
    "<p>The __init__ method in Python is a special method that is called when a new object is created. It is used to initialize the object's attributes and to perform any other necessary setup.\n",
    "The __init__ method is always called after the object is created.It is used in almost every class.\n",
    "It is the best place to put any code that needs to be executed when a new object is created.</p>"
   ]
  },
  {
   "cell_type": "markdown",
   "id": "d4943cb3",
   "metadata": {},
   "source": [
    "#### In a class named `Person`, create a constructor that initializes the `name` and `age` attributes.  Provide an example of creating an object of this class.\n",
    "\n"
   ]
  },
  {
   "cell_type": "code",
   "execution_count": 3,
   "id": "9990f1f1",
   "metadata": {},
   "outputs": [],
   "source": [
    "class person:\n",
    "    def __init__(self,name,age):\n",
    "        self.name=name\n",
    "        self.age=age\n",
    "        "
   ]
  },
  {
   "cell_type": "code",
   "execution_count": 4,
   "id": "2c14f4a0",
   "metadata": {},
   "outputs": [],
   "source": [
    "p=person('mahabir',30)"
   ]
  },
  {
   "cell_type": "code",
   "execution_count": 5,
   "id": "0974db96",
   "metadata": {},
   "outputs": [
    {
     "data": {
      "text/plain": [
       "('mahabir', 30)"
      ]
     },
     "execution_count": 5,
     "metadata": {},
     "output_type": "execute_result"
    }
   ],
   "source": [
    "p.name,p.age"
   ]
  },
  {
   "cell_type": "markdown",
   "id": "e969c687",
   "metadata": {},
   "source": [
    "#### How can you call a constructor explicitly in Python? Give an example.\n",
    "\n",
    "<p>Using the super() function: The super() function allows you to call the constructor of a parent class.\n",
    "    This is useful when you want to initialize an object with the values of its parent class </p>\n"
   ]
  },
  {
   "cell_type": "code",
   "execution_count": 52,
   "id": "1053dd23",
   "metadata": {},
   "outputs": [],
   "source": [
    "class parent:\n",
    "    def __init__(self,name):\n",
    "        self.name = 'parent'\n",
    "        \n",
    "class child(parent):\n",
    "    def __init__(self,name,age):\n",
    "        super().__init__(name)\n",
    "        self.age=age"
   ]
  },
  {
   "cell_type": "code",
   "execution_count": 53,
   "id": "0f4e9eda",
   "metadata": {},
   "outputs": [],
   "source": [
    "ch = child('Mango',3) ## Passing name of child"
   ]
  },
  {
   "cell_type": "code",
   "execution_count": 55,
   "id": "abf24d87",
   "metadata": {},
   "outputs": [
    {
     "data": {
      "text/plain": [
       "'parent'"
      ]
     },
     "execution_count": 55,
     "metadata": {},
     "output_type": "execute_result"
    }
   ],
   "source": [
    "ch.name ## returns parent name as we called parent class constructor"
   ]
  },
  {
   "cell_type": "code",
   "execution_count": 56,
   "id": "5d1bb095",
   "metadata": {},
   "outputs": [
    {
     "data": {
      "text/plain": [
       "3"
      ]
     },
     "execution_count": 56,
     "metadata": {},
     "output_type": "execute_result"
    }
   ],
   "source": [
    "ch.age"
   ]
  },
  {
   "cell_type": "markdown",
   "id": "584e690e",
   "metadata": {},
   "source": [
    "#### What is the significance of the `self` parameter in Python constructors? Explain with an example.\n",
    "\n",
    "<p> Self is a reference/pointer to the class. Every function in a class has a first argument as self. This binds the fucntions to the class.\n",
    "It is used to access the attributes and methods of the class..</p>\n"
   ]
  },
  {
   "cell_type": "markdown",
   "id": "f2b0921e",
   "metadata": {},
   "source": [
    "#### Discuss the concept of default constructors in Python. When are they used?\n",
    "\n",
    "<p>A default constructor is a constructor that takes no arguments.\n",
    "It is used to create an object with default values for its attributes and not assign to values during object creation </p>"
   ]
  },
  {
   "cell_type": "markdown",
   "id": "e956cfc1",
   "metadata": {},
   "source": [
    "#### Create a Python class called `Rectangle` with a constructor that initializes the `width` and `height`attributes. Provide a method to calculate the area of the rectangle.\n",
    "\n"
   ]
  },
  {
   "cell_type": "code",
   "execution_count": 20,
   "id": "b6364149",
   "metadata": {},
   "outputs": [],
   "source": [
    "class rectangle_area: \n",
    "    def __init__(self,width,length):\n",
    "        self.width = width\n",
    "        self.length = length\n",
    "        \n",
    "    def area(self):\n",
    "        print('Area of Rectangle is',self.width*self.length)"
   ]
  },
  {
   "cell_type": "code",
   "execution_count": 21,
   "id": "6cbca339",
   "metadata": {},
   "outputs": [
    {
     "name": "stdout",
     "output_type": "stream",
     "text": [
      "Area of Rectangle is 20\n"
     ]
    }
   ],
   "source": [
    "rect1 = rectangle_area(4,5)\n",
    "rect1.area()"
   ]
  },
  {
   "cell_type": "markdown",
   "id": "8826f1e7",
   "metadata": {},
   "source": [
    "#### How can you have multiple constructors in a Python class? Explain with an example.\n",
    "\n",
    "<p> The technique of having two (or more) constructors in a class is known as constructor overloading. A class can have multiple constructors that differ in the number and/or type of their parameters.\n",
    "It's not, however, possible to have two constructors with the exact same parameters.\n",
    "\n",
    "We can create multiple constructor function in a class but only the last one will be considered while object creation</p>\n"
   ]
  },
  {
   "cell_type": "code",
   "execution_count": 43,
   "id": "1c6e2d7b",
   "metadata": {},
   "outputs": [
    {
     "name": "stdout",
     "output_type": "stream",
     "text": [
      "Alice None\n",
      "Bob 25\n"
     ]
    }
   ],
   "source": [
    "class Person:\n",
    "    def __init__(self,name,age=10):\n",
    "        self.name=name\n",
    "        self.age = age\n",
    "    \n",
    "    \n",
    "    def __init__(self,name,age=None):\n",
    "        self.name=name\n",
    "        self.age = age\n",
    "    \n",
    "    def show(self):\n",
    "        print(self.name,self.age)\n",
    "\n",
    "p1 = Person(\"Alice\")\n",
    "p2 = Person(\"Bob\", age=25)\n",
    "p1.show()\n",
    "p2.show()"
   ]
  },
  {
   "cell_type": "markdown",
   "id": "e8382ab9",
   "metadata": {},
   "source": [
    "#### What is method overloading, and how is it related to constructors in Python?\n",
    "\n",
    "<p>When two functions of a class have same name but different signature (number of arguments) it is called method overloading.\n",
    "We can have multiple constructor in python using this overloading concept where each constructor has different signatures </p> "
   ]
  },
  {
   "cell_type": "code",
   "execution_count": null,
   "id": "e653c275",
   "metadata": {},
   "outputs": [],
   "source": []
  }
 ],
 "metadata": {
  "kernelspec": {
   "display_name": "Python 3 (ipykernel)",
   "language": "python",
   "name": "python3"
  },
  "language_info": {
   "codemirror_mode": {
    "name": "ipython",
    "version": 3
   },
   "file_extension": ".py",
   "mimetype": "text/x-python",
   "name": "python",
   "nbconvert_exporter": "python",
   "pygments_lexer": "ipython3",
   "version": "3.8.3"
  }
 },
 "nbformat": 4,
 "nbformat_minor": 5
}
